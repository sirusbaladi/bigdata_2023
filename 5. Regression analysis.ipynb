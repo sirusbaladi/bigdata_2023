{
 "cells": [
  {
   "cell_type": "code",
   "execution_count": 1,
   "id": "3ef9c149",
   "metadata": {},
   "outputs": [],
   "source": [
    "import pandas as pd\n",
    "import numpy as np\n",
    "from math import radians, sin, cos, sqrt, asin\n",
    "from datetime import datetime\n",
    "import altair as alt\n",
    "from sklearn.preprocessing import LabelEncoder, StandardScaler\n",
    "from sklearn.model_selection import train_test_split, GridSearchCV, cross_val_score\n",
    "from sklearn.metrics import accuracy_score, f1_score, roc_auc_score, confusion_matrix, classification_report\n",
    "from sklearn.ensemble import RandomForestClassifier\n",
    "from sklearn.linear_model import LogisticRegression\n",
    "from xgboost import XGBClassifier"
   ]
  },
  {
   "cell_type": "markdown",
   "id": "c4a77b04",
   "metadata": {},
   "source": [
    "# 1. Data importation and manipulation"
   ]
  },
  {
   "cell_type": "code",
   "execution_count": 2,
   "id": "258f287e",
   "metadata": {},
   "outputs": [],
   "source": [
    "def load_data(paths):\n",
    "    dfs = [pd.read_csv(file) for file in paths]\n",
    "    return pd.concat(dfs, ignore_index=True)\n",
    "\n",
    "\n",
    "def haversine(row):\n",
    "    lon1, lat1, lon2, lat2 = row[\"start_lng\"], row[\"start_lat\"], row[\"end_lng\"], row[\"end_lat\"]\n",
    "    lon1, lat1, lon2, lat2 = map(radians, [lon1, lat1, lon2, lat2])\n",
    "    dlon = lon2 - lon1\n",
    "    dlat = lat2 - lat1\n",
    "    a = sin(dlat / 2)**2 + cos(lat1) * cos(lat2) * sin(dlon / 2)**2\n",
    "    c = 2 * asin(sqrt(a))\n",
    "    r = 6371  # Radius of earth in kilometers\n",
    "    return c * r\n",
    "\n",
    "\n",
    "def ride_duration(row):\n",
    "    start_time = datetime.strptime(row[\"started_at\"], \"%Y-%m-%d %H:%M:%S\")\n",
    "    end_time = datetime.strptime(row[\"ended_at\"], \"%Y-%m-%d %H:%M:%S\")\n",
    "    return (end_time - start_time).total_seconds() / 60\n",
    "\n",
    "\n",
    "def preprocess_data(file_paths):\n",
    "    df = load_data(file_paths)\n",
    "    df[\"Haversine\"] = df.apply(haversine, axis=1)\n",
    "    df[\"Minutes\"] = df.apply(ride_duration, axis=1)\n",
    "    df = df.dropna()\n",
    "    return df\n"
   ]
  },
  {
   "cell_type": "code",
   "execution_count": 3,
   "id": "c479563c",
   "metadata": {},
   "outputs": [],
   "source": [
    "FILE_PATHS = [f\"data/JC-2022{i:02d}-citibike-tripdata.csv\" for i in range(1, 12)]\n",
    "df = preprocess_data(FILE_PATHS)"
   ]
  },
  {
   "cell_type": "markdown",
   "id": "18032f9d",
   "metadata": {},
   "source": [
    "# 2. Exploratory data analysis and visualization"
   ]
  },
  {
   "cell_type": "code",
   "execution_count": 4,
   "id": "faa03765",
   "metadata": {},
   "outputs": [],
   "source": [
    "def visualize_data(df):\n",
    "    dropdown = alt.binding_select(options=df.start_station_name.unique())\n",
    "    select = alt.selection_single(fields=['start_station_name'], bind=dropdown, name=\"start_station_name\")\n",
    "    \n",
    "    chart1 = alt.Chart(df.groupby([\"member_casual\", \"start_station_name\"]).sum().reset_index()).mark_bar().encode(\n",
    "        color=\"member_casual\", y='Minutes', x='start_station_name:N'\n",
    "    ).add_selection(select).transform_filter(select).properties(title='Station-wise Minutes by Member and Casual')\n",
    "\n",
    "    chart2 = alt.Chart(df.groupby([\"member_casual\", \"start_station_name\"]).sum().reset_index()).mark_bar().encode(\n",
    "        color=\"member_casual\", y='Haversine', x='start_station_name:N'\n",
    "    ).add_selection(select).transform_filter(select).properties(title='Station-wise Distance (km) by Member and Casual')\n",
    "\n",
    "    return chart1 | chart2\n"
   ]
  },
  {
   "cell_type": "code",
   "execution_count": 5,
   "id": "07971173",
   "metadata": {},
   "outputs": [
    {
     "data": {
      "text/html": [
       "\n",
       "<div id=\"altair-viz-a06f541fe94f4045b62377e6d59c29c4\"></div>\n",
       "<script type=\"text/javascript\">\n",
       "  var VEGA_DEBUG = (typeof VEGA_DEBUG == \"undefined\") ? {} : VEGA_DEBUG;\n",
       "  (function(spec, embedOpt){\n",
       "    let outputDiv = document.currentScript.previousElementSibling;\n",
       "    if (outputDiv.id !== \"altair-viz-a06f541fe94f4045b62377e6d59c29c4\") {\n",
       "      outputDiv = document.getElementById(\"altair-viz-a06f541fe94f4045b62377e6d59c29c4\");\n",
       "    }\n",
       "    const paths = {\n",
       "      \"vega\": \"https://cdn.jsdelivr.net/npm//vega@5?noext\",\n",
       "      \"vega-lib\": \"https://cdn.jsdelivr.net/npm//vega-lib?noext\",\n",
       "      \"vega-lite\": \"https://cdn.jsdelivr.net/npm//vega-lite@4.17.0?noext\",\n",
       "      \"vega-embed\": \"https://cdn.jsdelivr.net/npm//vega-embed@6?noext\",\n",
       "    };\n",
       "\n",
       "    function maybeLoadScript(lib, version) {\n",
       "      var key = `${lib.replace(\"-\", \"\")}_version`;\n",
       "      return (VEGA_DEBUG[key] == version) ?\n",
       "        Promise.resolve(paths[lib]) :\n",
       "        new Promise(function(resolve, reject) {\n",
       "          var s = document.createElement('script');\n",
       "          document.getElementsByTagName(\"head\")[0].appendChild(s);\n",
       "          s.async = true;\n",
       "          s.onload = () => {\n",
       "            VEGA_DEBUG[key] = version;\n",
       "            return resolve(paths[lib]);\n",
       "          };\n",
       "          s.onerror = () => reject(`Error loading script: ${paths[lib]}`);\n",
       "          s.src = paths[lib];\n",
       "        });\n",
       "    }\n",
       "\n",
       "    function showError(err) {\n",
       "      outputDiv.innerHTML = `<div class=\"error\" style=\"color:red;\">${err}</div>`;\n",
       "      throw err;\n",
       "    }\n",
       "\n",
       "    function displayChart(vegaEmbed) {\n",
       "      vegaEmbed(outputDiv, spec, embedOpt)\n",
       "        .catch(err => showError(`Javascript Error: ${err.message}<br>This usually means there's a typo in your chart specification. See the javascript console for the full traceback.`));\n",
       "    }\n",
       "\n",
       "    if(typeof define === \"function\" && define.amd) {\n",
       "      requirejs.config({paths});\n",
       "      require([\"vega-embed\"], displayChart, err => showError(`Error loading script: ${err.message}`));\n",
       "    } else {\n",
       "      maybeLoadScript(\"vega\", \"5\")\n",
       "        .then(() => maybeLoadScript(\"vega-lite\", \"4.17.0\"))\n",
       "        .then(() => maybeLoadScript(\"vega-embed\", \"6\"))\n",
       "        .catch(showError)\n",
       "        .then(() => displayChart(vegaEmbed));\n",
       "    }\n",
       "  })({\"config\": {\"view\": {\"continuousWidth\": 400, \"continuousHeight\": 300}}, \"hconcat\": [{\"data\": {\"name\": \"data-6bc82c48b01a317ca7086f93ac7fa487\"}, \"mark\": \"bar\", \"encoding\": {\"color\": {\"field\": \"member_casual\", \"type\": \"nominal\"}, \"x\": {\"field\": \"start_station_name\", \"type\": \"nominal\"}, \"y\": {\"field\": \"Minutes\", \"type\": \"quantitative\"}}, \"selection\": {\"start_station_name\": {\"type\": \"single\", \"fields\": [\"start_station_name\"], \"bind\": {\"input\": \"select\", \"options\": [\"12 St & Sinatra Dr N\", \"Essex Light Rail\", \"Christ Hospital\", \"Grove St PATH\", \"Willow Ave & 12 St\", \"Grand St\", \"Madison St & 1 St\", \"Union St\", \"Montgomery St\", \"Hilltop\", \"Pershing Field\", \"Manila & 1st\", \"City Hall - Washington St & 1 St\", \"Riverview Park\", \"Jersey & 6th St\", \"Bergen Ave & Stegman St\", \"Communipaw & Berry Lane\", \"Paulus Hook\", \"9 St HBLR - Jackson St & 8 St\", \"Washington St\", \"Liberty Light Rail\", \"City Hall\", \"Hoboken Terminal - River St & Hudson Pl\", \"5 Corners Library\", \"Hoboken Terminal - Hudson St & Hudson Pl\", \"Fairmount Ave\", \"Jackson Square\", \"Dey St\", \"Warren St\", \"Newport Pkwy\", \"Clinton St & Newark St\", \"Baldwin at Montgomery\", \"Bloomfield St & 15 St\", \"Clinton St & 7 St\", \"Harborside\", \"Brunswick & 6th\", \"Hoboken Ave at Monmouth St\", \"Oakland Ave\", \"Columbus Dr at Exchange Pl\", \"7 St & Monroe St\", \"JC Medical Center\", \"Journal Square\", \"Mama Johnson Field - 4 St & Jackson St\", \"Marshall St & 2 St\", \"Sip Ave\", \"Southwest Park - Jackson St & Observer Hwy\", \"Adams St & 11 St\", \"11 St & Washington St\", \"8 St & Washington St\", \"Dixon Mills\", \"Grant Ave & MLK Dr\", \"Hudson St & 4 St\", \"Columbus Park - Clinton St & 9 St\", \"Morris Canal\", \"Church Sq Park - 5 St & Park Ave\", \"Lincoln Park\", \"Newark Ave\", \"6 St & Grand St\", \"Heights Elevator\", \"Monmouth and 6th\", \"4 St & Grand St\", \"Lafayette Park\", \"Marin Light Rail\", \"Columbus Drive\", \"South Waterfront Walkway - Sinatra Dr & 1 St\", \"Astor Place\", \"Adams St & 2 St\", \"Brunswick St\", \"Glenwood Ave\", \"Hamilton Park\", \"14 St Ferry - 14 St & Shipyard Ln\", \"Stevens - River Ter & 6 St\", \"Bergen Ave\", \"Newport PATH\", \"Grand St & 14 St\", \"McGinley Square\", \"Leonard Gordon Park\", \"Jersey & 3rd\", \"Madison St & 10 St\", \"Van Vorst Park\", \"JCBS Depot\", \"Bergen Ave & Sip Ave\", \"York St & Marin Blvd\", \"MTL-ECO5-LAB\"]}}}, \"title\": \"Station-wise Minutes by Member and Casual\", \"transform\": [{\"filter\": {\"selection\": \"start_station_name\"}}]}, {\"data\": {\"name\": \"data-6bc82c48b01a317ca7086f93ac7fa487\"}, \"mark\": \"bar\", \"encoding\": {\"color\": {\"field\": \"member_casual\", \"type\": \"nominal\"}, \"x\": {\"field\": \"start_station_name\", \"type\": \"nominal\"}, \"y\": {\"field\": \"Haversine\", \"type\": \"quantitative\"}}, \"selection\": {\"start_station_name\": {\"type\": \"single\", \"fields\": [\"start_station_name\"], \"bind\": {\"input\": \"select\", \"options\": [\"12 St & Sinatra Dr N\", \"Essex Light Rail\", \"Christ Hospital\", \"Grove St PATH\", \"Willow Ave & 12 St\", \"Grand St\", \"Madison St & 1 St\", \"Union St\", \"Montgomery St\", \"Hilltop\", \"Pershing Field\", \"Manila & 1st\", \"City Hall - Washington St & 1 St\", \"Riverview Park\", \"Jersey & 6th St\", \"Bergen Ave & Stegman St\", \"Communipaw & Berry Lane\", \"Paulus Hook\", \"9 St HBLR - Jackson St & 8 St\", \"Washington St\", \"Liberty Light Rail\", \"City Hall\", \"Hoboken Terminal - River St & Hudson Pl\", \"5 Corners Library\", \"Hoboken Terminal - Hudson St & Hudson Pl\", \"Fairmount Ave\", \"Jackson Square\", \"Dey St\", \"Warren St\", \"Newport Pkwy\", \"Clinton St & Newark St\", \"Baldwin at Montgomery\", \"Bloomfield St & 15 St\", \"Clinton St & 7 St\", \"Harborside\", \"Brunswick & 6th\", \"Hoboken Ave at Monmouth St\", \"Oakland Ave\", \"Columbus Dr at Exchange Pl\", \"7 St & Monroe St\", \"JC Medical Center\", \"Journal Square\", \"Mama Johnson Field - 4 St & Jackson St\", \"Marshall St & 2 St\", \"Sip Ave\", \"Southwest Park - Jackson St & Observer Hwy\", \"Adams St & 11 St\", \"11 St & Washington St\", \"8 St & Washington St\", \"Dixon Mills\", \"Grant Ave & MLK Dr\", \"Hudson St & 4 St\", \"Columbus Park - Clinton St & 9 St\", \"Morris Canal\", \"Church Sq Park - 5 St & Park Ave\", \"Lincoln Park\", \"Newark Ave\", \"6 St & Grand St\", \"Heights Elevator\", \"Monmouth and 6th\", \"4 St & Grand St\", \"Lafayette Park\", \"Marin Light Rail\", \"Columbus Drive\", \"South Waterfront Walkway - Sinatra Dr & 1 St\", \"Astor Place\", \"Adams St & 2 St\", \"Brunswick St\", \"Glenwood Ave\", \"Hamilton Park\", \"14 St Ferry - 14 St & Shipyard Ln\", \"Stevens - River Ter & 6 St\", \"Bergen Ave\", \"Newport PATH\", \"Grand St & 14 St\", \"McGinley Square\", \"Leonard Gordon Park\", \"Jersey & 3rd\", \"Madison St & 10 St\", \"Van Vorst Park\", \"JCBS Depot\", \"Bergen Ave & Sip Ave\", \"York St & Marin Blvd\", \"MTL-ECO5-LAB\"]}}}, \"title\": \"Station-wise Distance (km) by Member and Casual\", \"transform\": [{\"filter\": {\"selection\": \"start_station_name\"}}]}], \"$schema\": \"https://vega.github.io/schema/vega-lite/v4.17.0.json\", \"datasets\": {\"data-6bc82c48b01a317ca7086f93ac7fa487\": [{\"member_casual\": \"casual\", \"start_station_name\": \"11 St & Washington St\", \"start_lat\": 245437.180194562, \"start_lng\": -445865.6591110198, \"end_lat\": 245380.41279788568, \"end_lng\": -445898.4959148413, \"Haversine\": 7719.745288665882, \"Minutes\": 114320.9833333335}, {\"member_casual\": \"casual\", \"start_station_name\": \"12 St & Sinatra Dr N\", \"start_lat\": 394588.14792610303, \"start_lng\": -716774.7190653987, \"end_lat\": 394499.75941042614, \"end_lng\": -716825.3432264654, \"Haversine\": 11532.742818757326, \"Minutes\": 300186.18333333405}, {\"member_casual\": \"casual\", \"start_station_name\": \"14 St Ferry - 14 St & Shipyard Ln\", \"start_lat\": 364698.0816051544, \"start_lng\": -662443.7639140269, \"end_lat\": 364603.78538356314, \"end_lng\": -662493.1762747789, \"Haversine\": 11909.431822439396, \"Minutes\": 260589.8833333332}, {\"member_casual\": \"casual\", \"start_station_name\": \"4 St & Grand St\", \"start_lat\": 150827.86732297752, \"start_lng\": -274077.9232492394, \"end_lat\": 150825.1410641399, \"end_lng\": -274068.5419496085, \"Haversine\": 3564.5829536514984, \"Minutes\": 50397.19999999986}, {\"member_casual\": \"casual\", \"start_station_name\": \"5 Corners Library\", \"start_lat\": 33687.818360298006, \"start_lng\": -61247.2188396573, \"end_lat\": 33684.84596755511, \"end_lng\": -61239.55942095353, \"Haversine\": 1274.9936928978357, \"Minutes\": 16357.83333333335}, {\"member_casual\": \"casual\", \"start_station_name\": \"6 St & Grand St\", \"start_lat\": 115551.07995440312, \"start_lng\": -209961.80863344332, \"end_lat\": 115540.49372143294, \"end_lng\": -209955.35495792612, \"Haversine\": 2740.4951045290686, \"Minutes\": 36236.166666666635}, {\"member_casual\": \"casual\", \"start_station_name\": \"7 St & Monroe St\", \"start_lat\": 165674.9399231841, \"start_lng\": -301038.5158418531, \"end_lat\": 165649.84588129565, \"end_lng\": -301018.93317203165, \"Haversine\": 4720.778491735428, \"Minutes\": 52749.65000000006}, {\"member_casual\": \"casual\", \"start_station_name\": \"8 St & Washington St\", \"start_lat\": 207030.34401592842, \"start_lng\": -376137.2014628592, \"end_lat\": 207006.4178451959, \"end_lng\": -376156.1771870217, \"Haversine\": 5118.718430987704, \"Minutes\": 81635.21666666679}, {\"member_casual\": \"casual\", \"start_station_name\": \"9 St HBLR - Jackson St & 8 St\", \"start_lat\": 167351.70865799554, \"start_lng\": -304075.75664336194, \"end_lat\": 167324.27705974798, \"end_lng\": -304051.3868982033, \"Haversine\": 5123.590303913022, \"Minutes\": 79446.23333333347}, {\"member_casual\": \"casual\", \"start_station_name\": \"Adams St & 11 St\", \"start_lat\": 109538.39149529324, \"start_lng\": -199002.1852078709, \"end_lat\": 109513.23710754803, \"end_lng\": -198998.5452389056, \"Haversine\": 3264.477699570501, \"Minutes\": 44420.28333333317}, {\"member_casual\": \"casual\", \"start_station_name\": \"Adams St & 2 St\", \"start_lat\": 154403.85978997406, \"start_lng\": -280599.83653711766, \"end_lat\": 154412.7257371846, \"end_lng\": -280587.71884456923, \"Haversine\": 4015.69707545041, \"Minutes\": 50723.66666666664}, {\"member_casual\": \"casual\", \"start_station_name\": \"Astor Place\", \"start_lat\": 48496.660475252735, \"start_lng\": -88218.87868877103, \"end_lat\": 48502.66690548714, \"end_lng\": -88201.95211362491, \"Haversine\": 2058.69538208639, \"Minutes\": 23721.266666666692}, {\"member_casual\": \"casual\", \"start_station_name\": \"Baldwin at Montgomery\", \"start_lat\": 115695.85258200618, \"start_lng\": -210416.42121591454, \"end_lat\": 115695.04741089087, \"end_lng\": -210373.42833264574, \"Haversine\": 4679.559975304472, \"Minutes\": 50821.46666666674}, {\"member_casual\": \"casual\", \"start_station_name\": \"Bergen Ave\", \"start_lat\": 67150.74708277744, \"start_lng\": -122143.81812440127, \"end_lat\": 67157.8437963043, \"end_lng\": -122120.28009703067, \"Haversine\": 2626.2751140006267, \"Minutes\": 24779.466666666678}, {\"member_casual\": \"casual\", \"start_station_name\": \"Bergen Ave & Sip Ave\", \"start_lat\": 87734.67790218061, \"start_lng\": -159534.78965079944, \"end_lat\": 87722.70127254375, \"end_lng\": -159529.33279076283, \"Haversine\": 2983.7530013207297, \"Minutes\": 34945.16666666661}, {\"member_casual\": \"casual\", \"start_station_name\": \"Bergen Ave & Stegman St\", \"start_lat\": 28413.210978005412, \"start_lng\": -51712.51800332714, \"end_lat\": 28421.08350462411, \"end_lng\": -51700.437081129756, \"Haversine\": 1407.80482700716, \"Minutes\": 30272.849999999984}, {\"member_casual\": \"casual\", \"start_station_name\": \"Bloomfield St & 15 St\", \"start_lat\": 166848.99154900564, \"start_lng\": -303064.82056794176, \"end_lat\": 166799.72238928938, \"end_lng\": -303083.93900222104, \"Haversine\": 5983.596571664091, \"Minutes\": 104200.50000000006}, {\"member_casual\": \"casual\", \"start_station_name\": \"Brunswick & 6th\", \"start_lat\": 57138.60835102622, \"start_lng\": -103892.69973288858, \"end_lat\": 57138.94420760392, \"end_lng\": -103882.78542308066, \"Haversine\": 1912.743768447941, \"Minutes\": 19891.61666666665}, {\"member_casual\": \"casual\", \"start_station_name\": \"Brunswick St\", \"start_lat\": 81896.28502874468, \"start_lng\": -148915.87975475128, \"end_lat\": 81899.8792987595, \"end_lng\": -148906.23659127599, \"Haversine\": 2576.7726030808335, \"Minutes\": 34731.549999999945}, {\"member_casual\": \"casual\", \"start_station_name\": \"Christ Hospital\", \"start_lat\": 67986.36076274201, \"start_lng\": -123590.19386976764, \"end_lat\": 67978.49683050944, \"end_lng\": -123583.7196235091, \"Haversine\": 2360.2287207512777, \"Minutes\": 28744.68333333332}, {\"member_casual\": \"casual\", \"start_station_name\": \"Church Sq Park - 5 St & Park Ave\", \"start_lat\": 200739.078460245, \"start_lng\": -364756.8628892931, \"end_lat\": 200738.28694721832, \"end_lng\": -364761.72644327884, \"Haversine\": 4767.472147482356, \"Minutes\": 79072.74999999985}, {\"member_casual\": \"casual\", \"start_station_name\": \"City Hall\", \"start_lat\": 141290.51228492093, \"start_lng\": -256932.14990155995, \"end_lat\": 141304.47680639563, \"end_lng\": -256942.18241463817, \"Haversine\": 4172.114663556171, \"Minutes\": 91198.78333333344}, {\"member_casual\": \"casual\", \"start_station_name\": \"City Hall - Washington St & 1 St\", \"start_lat\": 397677.96217955154, \"start_lng\": -722690.4185151985, \"end_lat\": 397715.8401345935, \"end_lng\": -722734.7938114158, \"Haversine\": 11973.883482642002, \"Minutes\": 172120.83333333227}, {\"member_casual\": \"casual\", \"start_station_name\": \"Clinton St & 7 St\", \"start_lat\": 164163.2849865123, \"start_lng\": -298280.28139125154, \"end_lat\": 164143.59969013327, \"end_lng\": -298279.28370629414, \"Haversine\": 3948.959218660806, \"Minutes\": 54021.11666666674}, {\"member_casual\": \"casual\", \"start_station_name\": \"Clinton St & Newark St\", \"start_lat\": 181974.1400019257, \"start_lng\": -330717.495110917, \"end_lat\": 181985.15419001566, \"end_lng\": -330714.50298674207, \"Haversine\": 5422.332933023925, \"Minutes\": 65864.96666666654}, {\"member_casual\": \"casual\", \"start_station_name\": \"Columbus Dr at Exchange Pl\", \"start_lat\": 180294.31089355156, \"start_lng\": -327817.338645517, \"end_lat\": 180324.8349023547, \"end_lng\": -327850.1492425471, \"Haversine\": 6334.744346149115, \"Minutes\": 113274.10000000012}, {\"member_casual\": \"casual\", \"start_station_name\": \"Columbus Drive\", \"start_lat\": 114785.14465092967, \"start_lng\": -208715.65864275672, \"end_lat\": 114806.34755104859, \"end_lng\": -208719.88368449864, \"Haversine\": 3628.442020882554, \"Minutes\": 59746.34999999992}, {\"member_casual\": \"casual\", \"start_station_name\": \"Columbus Park - Clinton St & 9 St\", \"start_lat\": 221018.0740611938, \"start_lng\": -401552.0320472641, \"end_lat\": 220975.4391879111, \"end_lng\": -401552.12041288347, \"Haversine\": 6014.1910086244025, \"Minutes\": 81374.09999999989}, {\"member_casual\": \"casual\", \"start_station_name\": \"Communipaw & Berry Lane\", \"start_lat\": 51910.81512267918, \"start_lng\": -94434.94833337131, \"end_lat\": 51917.47546245614, \"end_lng\": -94415.99158787396, \"Haversine\": 2141.9876442714276, \"Minutes\": 30814.63333333335}, {\"member_casual\": \"casual\", \"start_station_name\": \"Dey St\", \"start_lat\": 21468.77735432806, \"start_lng\": -39033.278716107045, \"end_lat\": 21465.135644425896, \"end_lng\": -39025.40139429907, \"Haversine\": 962.8511412961157, \"Minutes\": 11062.666666666666}, {\"member_casual\": \"casual\", \"start_station_name\": \"Dixon Mills\", \"start_lat\": 55462.86132141682, \"start_lng\": -100856.06742011102, \"end_lat\": 55466.07760061393, \"end_lng\": -100851.71102295021, \"Haversine\": 1737.2791119455019, \"Minutes\": 25498.150000000016}, {\"member_casual\": \"casual\", \"start_station_name\": \"Essex Light Rail\", \"start_lat\": 73160.85492867923, \"start_lng\": -133043.56088730975, \"end_lat\": 73176.17855476454, \"end_lng\": -133050.78258435958, \"Haversine\": 2286.37747277956, \"Minutes\": 69306.0666666667}, {\"member_casual\": \"casual\", \"start_station_name\": \"Fairmount Ave\", \"start_lat\": 48178.53914692062, \"start_lng\": -87627.13073897158, \"end_lat\": 48180.235957765035, \"end_lng\": -87607.14244214798, \"Haversine\": 2062.3783688627987, \"Minutes\": 19796.03333333337}, {\"member_casual\": \"casual\", \"start_station_name\": \"Glenwood Ave\", \"start_lat\": 39302.10332877823, \"start_lng\": -71478.57621880932, \"end_lat\": 39300.32738179146, \"end_lng\": -71466.77779171115, \"Haversine\": 1424.1013040585872, \"Minutes\": 18782.516666666703}, {\"member_casual\": \"casual\", \"start_station_name\": \"Grand St\", \"start_lat\": 100444.31683892747, \"start_lng\": -182650.96403620645, \"end_lat\": 100463.9227374738, \"end_lng\": -182662.81472047511, \"Haversine\": 3303.3826578054513, \"Minutes\": 59399.649999999914}, {\"member_casual\": \"casual\", \"start_station_name\": \"Grand St & 14 St\", \"start_lat\": 172308.2629198679, \"start_lng\": -313005.59168373985, \"end_lat\": 172254.89494226445, \"end_lng\": -313015.4972515709, \"Haversine\": 6329.622167943995, \"Minutes\": 63299.05000000002}, {\"member_casual\": \"casual\", \"start_station_name\": \"Grant Ave & MLK Dr\", \"start_lat\": 8263.963620371906, \"start_lng\": -15038.40512856378, \"end_lat\": 8265.596853362971, \"end_lng\": -15036.155000495937, \"Haversine\": 294.84875795783256, \"Minutes\": 6850.449999999999}, {\"member_casual\": \"casual\", \"start_station_name\": \"Grove St PATH\", \"start_lat\": 308980.3041000051, \"start_lng\": -561839.2854056999, \"end_lat\": 309001.4210914939, \"end_lng\": -561886.4527133518, \"Haversine\": 9957.417564853922, \"Minutes\": 153784.0000000003}, {\"member_casual\": \"casual\", \"start_station_name\": \"Hamilton Park\", \"start_lat\": 213697.63053303602, \"start_lng\": -388510.164441434, \"end_lat\": 213689.99488181502, \"end_lng\": -388500.86420255306, \"Haversine\": 6310.102567332788, \"Minutes\": 93941.61666666683}, {\"member_casual\": \"casual\", \"start_station_name\": \"Harborside\", \"start_lat\": 173341.87322918084, \"start_lng\": -315163.725992152, \"end_lat\": 173374.4799283036, \"end_lng\": -315182.9591168903, \"Haversine\": 5968.283773086902, \"Minutes\": 94448.2499999998}, {\"member_casual\": \"casual\", \"start_station_name\": \"Heights Elevator\", \"start_lat\": 56844.469368277765, \"start_lng\": -103286.43629287358, \"end_lat\": 56830.700383416246, \"end_lng\": -103284.42922833494, \"Haversine\": 2278.3180068792453, \"Minutes\": 32486.699999999993}, {\"member_casual\": \"casual\", \"start_station_name\": \"Hilltop\", \"start_lat\": 95921.89033496272, \"start_lng\": -174405.5605296195, \"end_lat\": 95912.91488144065, \"end_lng\": -174385.04192074083, \"Haversine\": 3524.6625494301156, \"Minutes\": 51132.41666666668}, {\"member_casual\": \"casual\", \"start_station_name\": \"Hoboken Ave at Monmouth St\", \"start_lat\": 335373.05243120977, \"start_lng\": -609628.5600207004, \"end_lat\": 335368.79137100856, \"end_lng\": -609537.8542390509, \"Haversine\": 11434.929013043822, \"Minutes\": 125863.46666666651}, {\"member_casual\": \"casual\", \"start_station_name\": \"Hoboken Terminal - Hudson St & Hudson Pl\", \"start_lat\": 473799.67852958076, \"start_lng\": -861046.551851669, \"end_lat\": 473843.2827379944, \"end_lng\": -861144.4214304653, \"Haversine\": 14692.556647146575, \"Minutes\": 173078.9000000007}, {\"member_casual\": \"casual\", \"start_station_name\": \"Hoboken Terminal - River St & Hudson Pl\", \"start_lat\": 487081.32092838414, \"start_lng\": -885166.2592619112, \"end_lat\": 487175.3678430031, \"end_lng\": -885209.2228620632, \"Haversine\": 16030.365616565952, \"Minutes\": 193449.31666666718}, {\"member_casual\": \"casual\", \"start_station_name\": \"Hudson St & 4 St\", \"start_lat\": 273982.9839687793, \"start_lng\": -497842.3205511458, \"end_lat\": 273996.905009367, \"end_lng\": -497865.1431506911, \"Haversine\": 7267.263330751496, \"Minutes\": 136431.7333333335}, {\"member_casual\": \"casual\", \"start_station_name\": \"JC Medical Center\", \"start_lat\": 119177.10096537972, \"start_lng\": -216743.27175218958, \"end_lat\": 119188.29830295134, \"end_lng\": -216734.7990066166, \"Haversine\": 2761.6474148053544, \"Minutes\": 99044.36666666651}, {\"member_casual\": \"casual\", \"start_station_name\": \"Jackson Square\", \"start_lat\": 23083.214502207906, \"start_lng\": -42002.73624956414, \"end_lat\": 23087.728477642904, \"end_lng\": -41993.89752457222, \"Haversine\": 1077.6476840152895, \"Minutes\": 19170.666666666682}, {\"member_casual\": \"casual\", \"start_station_name\": \"Jersey & 3rd\", \"start_lat\": 70247.73469539805, \"start_lng\": -127729.23120086516, \"end_lat\": 70253.35500658715, \"end_lng\": -127726.00495432518, \"Haversine\": 2047.5702839176115, \"Minutes\": 31476.600000000013}, {\"member_casual\": \"casual\", \"start_station_name\": \"Jersey & 6th St\", \"start_lat\": 50132.82740534012, \"start_lng\": -91150.08559974859, \"end_lat\": 50134.53394570165, \"end_lng\": -91145.89622428526, \"Haversine\": 1519.4312153461603, \"Minutes\": 27303.06666666663}, {\"member_casual\": \"casual\", \"start_station_name\": \"Journal Square\", \"start_lat\": 67332.78076619624, \"start_lng\": -122425.32074533998, \"end_lat\": 67329.70025059549, \"end_lng\": -122414.98025903665, \"Haversine\": 2490.607994692965, \"Minutes\": 31241.233333333283}, {\"member_casual\": \"casual\", \"start_station_name\": \"Lafayette Park\", \"start_lat\": 81345.51808133996, \"start_lng\": -147977.58132812986, \"end_lat\": 81355.79996701876, \"end_lng\": -147949.99123215085, \"Haversine\": 3020.8681461607857, \"Minutes\": 48886.55000000011}, {\"member_casual\": \"casual\", \"start_station_name\": \"Leonard Gordon Park\", \"start_lat\": 50769.39281377715, \"start_lng\": -92275.33564956671, \"end_lat\": 50755.29692386848, \"end_lng\": -92264.85996275421, \"Haversine\": 2367.6620302683154, \"Minutes\": 24684.733333333377}, {\"member_casual\": \"casual\", \"start_station_name\": \"Liberty Light Rail\", \"start_lat\": 245855.19427851035, \"start_lng\": -447222.3798051218, \"end_lat\": 245884.83877758833, \"end_lng\": -447184.86006458645, \"Haversine\": 5527.732599750967, \"Minutes\": 289787.1499999996}, {\"member_casual\": \"casual\", \"start_station_name\": \"Lincoln Park\", \"start_lat\": 63326.767587397815, \"start_lng\": -115191.93240009589, \"end_lat\": 63327.86526460485, \"end_lng\": -115168.03519328646, \"Haversine\": 2304.053291983137, \"Minutes\": 62334.45000000008}, {\"member_casual\": \"casual\", \"start_station_name\": \"MTL-ECO5-LAB\", \"start_lat\": 81.49433126887475, \"start_lng\": -148.17792774061672, \"end_lat\": 81.49433126887475, \"end_lng\": -148.17792774061672, \"Haversine\": 0.0, \"Minutes\": 4.6000000000000005}, {\"member_casual\": \"casual\", \"start_station_name\": \"Madison St & 1 St\", \"start_lat\": 198071.98797113457, \"start_lng\": -359979.00441372127, \"end_lat\": 198081.8125417921, \"end_lng\": -359949.49406200723, \"Haversine\": 5415.092478956459, \"Minutes\": 57804.700000000055}, {\"member_casual\": \"casual\", \"start_station_name\": \"Madison St & 10 St\", \"start_lat\": 106031.40298890752, \"start_lng\": -192641.32273222256, \"end_lat\": 106013.03530228889, \"end_lng\": -192633.18477117713, \"Haversine\": 2927.681553470184, \"Minutes\": 38248.70000000005}, {\"member_casual\": \"casual\", \"start_station_name\": \"Mama Johnson Field - 4 St & Jackson St\", \"start_lat\": 86293.97313857346, \"start_lng\": -156816.82029337186, \"end_lat\": 86290.02838856763, \"end_lng\": -156803.49766103283, \"Haversine\": 2268.201518541307, \"Minutes\": 51435.43333333342}, {\"member_casual\": \"casual\", \"start_station_name\": \"Manila & 1st\", \"start_lat\": 103351.55642291225, \"start_lng\": -187920.84214524284, \"end_lat\": 103368.80538457636, \"end_lng\": -187923.24718891238, \"Haversine\": 3474.584933483964, \"Minutes\": 45191.71666666664}, {\"member_casual\": \"casual\", \"start_station_name\": \"Marin Light Rail\", \"start_lat\": 217253.02389789018, \"start_lng\": -395092.464996783, \"end_lat\": 217288.81197643373, \"end_lng\": -395089.2255160249, \"Haversine\": 5825.210463152327, \"Minutes\": 153139.48333333287}, {\"member_casual\": \"casual\", \"start_station_name\": \"Marshall St & 2 St\", \"start_lat\": 140066.8027826978, \"start_lng\": -254558.23974031772, \"end_lat\": 140063.08794766743, \"end_lng\": -254528.50671257995, \"Haversine\": 4105.2079717984425, \"Minutes\": 48851.16666666669}, {\"member_casual\": \"casual\", \"start_station_name\": \"McGinley Square\", \"start_lat\": 102872.22326239647, \"start_lng\": -187094.79814768664, \"end_lat\": 102872.5704098135, \"end_lng\": -187062.8560226013, \"Haversine\": 3822.0713656778944, \"Minutes\": 43329.83333333324}, {\"member_casual\": \"casual\", \"start_station_name\": \"Monmouth and 6th\", \"start_lat\": 46305.086742372616, \"start_lng\": -84193.48504775674, \"end_lat\": 46306.21134865241, \"end_lng\": -84186.78826506526, \"Haversine\": 1433.5021213808777, \"Minutes\": 17718.333333333343}, {\"member_casual\": \"casual\", \"start_station_name\": \"Montgomery St\", \"start_lat\": 51591.50673757388, \"start_lng\": -93822.60718282635, \"end_lat\": 51595.779394264995, \"end_lng\": -93818.5829918307, \"Haversine\": 1565.7417849441954, \"Minutes\": 25906.866666666658}, {\"member_casual\": \"casual\", \"start_station_name\": \"Morris Canal\", \"start_lat\": 83378.99822124571, \"start_lng\": -151630.83911892463, \"end_lat\": 83395.39543725351, \"end_lng\": -151633.61961798108, \"Haversine\": 2299.1789654176087, \"Minutes\": 66556.75}, {\"member_casual\": \"casual\", \"start_station_name\": \"Newark Ave\", \"start_lat\": 133973.80136418907, \"start_lng\": -243612.33495719027, \"end_lat\": 133989.60111069938, \"end_lng\": -243615.28184665987, \"Haversine\": 4580.084549180738, \"Minutes\": 71252.11666666664}, {\"member_casual\": \"casual\", \"start_station_name\": \"Newport PATH\", \"start_lat\": 199196.84334623138, \"start_lng\": -362099.1009554451, \"end_lat\": 199203.55324351284, \"end_lng\": -362125.1020887891, \"Haversine\": 6535.058045914008, \"Minutes\": 106069.83333333346}, {\"member_casual\": \"casual\", \"start_station_name\": \"Newport Pkwy\", \"start_lat\": 276833.28600484726, \"start_lng\": -503196.2205043632, \"end_lat\": 276837.1406232047, \"end_lng\": -503224.5609102645, \"Haversine\": 8171.0683928420285, \"Minutes\": 170108.96666666682}, {\"member_casual\": \"casual\", \"start_station_name\": \"Oakland Ave\", \"start_lat\": 86241.4974126813, \"start_lng\": -156769.06310538808, \"end_lat\": 86229.74346407168, \"end_lng\": -156755.53083027416, \"Haversine\": 3035.9479213159752, \"Minutes\": 32658.499999999967}, {\"member_casual\": \"casual\", \"start_station_name\": \"Paulus Hook\", \"start_lat\": 111801.04503135703, \"start_lng\": -203296.1319399838, \"end_lat\": 111819.97558204735, \"end_lng\": -203316.66635748558, \"Haversine\": 3659.3308927180383, \"Minutes\": 74377.29999999994}, {\"member_casual\": \"casual\", \"start_station_name\": \"Pershing Field\", \"start_lat\": 98026.85955177646, \"start_lng\": -178168.62641362377, \"end_lat\": 98005.35505009479, \"end_lng\": -178155.86131006017, \"Haversine\": 3908.6372907436694, \"Minutes\": 78347.28333333321}, {\"member_casual\": \"casual\", \"start_station_name\": \"Riverview Park\", \"start_lat\": 95138.18133794738, \"start_lng\": -172892.6078115033, \"end_lat\": 95118.90092416244, \"end_lng\": -172882.86582753187, \"Haversine\": 3740.2226605643837, \"Minutes\": 43767.48333333332}, {\"member_casual\": \"casual\", \"start_station_name\": \"Sip Ave\", \"start_lat\": 89852.35961213206, \"start_lng\": -163384.9909925403, \"end_lat\": 89840.14747513032, \"end_lng\": -163383.75271434773, \"Haversine\": 2938.6125640060095, \"Minutes\": 31175.7833333333}, {\"member_casual\": \"casual\", \"start_station_name\": \"South Waterfront Walkway - Sinatra Dr & 1 St\", \"start_lat\": 653095.4498660776, \"start_lng\": -1186813.3470616008, \"end_lat\": 653172.9154400429, \"end_lng\": -1186857.6651561477, \"Haversine\": 17427.234197825397, \"Minutes\": 453005.86666666775}, {\"member_casual\": \"casual\", \"start_station_name\": \"Southwest Park - Jackson St & Observer Hwy\", \"start_lat\": 138996.5662332144, \"start_lng\": -252630.15139550713, \"end_lat\": 138998.34892328316, \"end_lng\": -252603.7528657031, \"Haversine\": 4184.683267967825, \"Minutes\": 43652.01666666661}, {\"member_casual\": \"casual\", \"start_station_name\": \"Stevens - River Ter & 6 St\", \"start_lat\": 105361.75966577358, \"start_lng\": -191433.78282153947, \"end_lat\": 105356.86339044514, \"end_lng\": -191446.47165840867, \"Haversine\": 2571.1210321253707, \"Minutes\": 56702.11666666673}, {\"member_casual\": \"casual\", \"start_station_name\": \"Union St\", \"start_lat\": 28380.579525748282, \"start_lng\": -51636.26337957788, \"end_lat\": 28383.393815530355, \"end_lng\": -51624.521116366726, \"Haversine\": 1179.6340542441735, \"Minutes\": 31907.28333333332}, {\"member_casual\": \"casual\", \"start_station_name\": \"Van Vorst Park\", \"start_lat\": 112749.47745769568, \"start_lng\": -205038.16491595955, \"end_lat\": 112759.67897175244, \"end_lng\": -205037.18896850842, \"Haversine\": 2905.215597520362, \"Minutes\": 61548.600000000006}, {\"member_casual\": \"casual\", \"start_station_name\": \"Warren St\", \"start_lat\": 142361.04351258805, \"start_lng\": -258837.00120677528, \"end_lat\": 142382.22667432987, \"end_lng\": -258840.48397171983, \"Haversine\": 4395.187638054016, \"Minutes\": 82232.14999999989}, {\"member_casual\": \"casual\", \"start_station_name\": \"Washington St\", \"start_lat\": 183666.555141532, \"start_lng\": -333900.0224305313, \"end_lat\": 183681.108018866, \"end_lng\": -333913.3334323459, \"Haversine\": 5745.683023384472, \"Minutes\": 103505.33333333353}, {\"member_casual\": \"casual\", \"start_station_name\": \"Willow Ave & 12 St\", \"start_lat\": 146910.52099926368, \"start_lng\": -266879.49500817136, \"end_lat\": 146869.38244206147, \"end_lng\": -266889.0384151822, \"Haversine\": 5014.865951301341, \"Minutes\": 48377.98333333339}, {\"member_casual\": \"casual\", \"start_station_name\": \"York St & Marin Blvd\", \"start_lat\": 3868.078425078902, \"start_lng\": -7034.029144048691, \"end_lat\": 3868.8371717885266, \"end_lng\": -7034.13288475819, \"Haversine\": 128.97216570422898, \"Minutes\": 1982.5333333333333}, {\"member_casual\": \"member\", \"start_station_name\": \"11 St & Washington St\", \"start_lat\": 346619.39700752695, \"start_lng\": -629675.1301592577, \"end_lat\": 346545.70110887836, \"end_lng\": -629716.245206805, \"Haversine\": 10333.57830477903, \"Minutes\": 78319.99999999994}, {\"member_casual\": \"member\", \"start_station_name\": \"12 St & Sinatra Dr N\", \"start_lat\": 275637.1257352374, \"start_lng\": -500698.59891489736, \"end_lat\": 275568.85288496834, \"end_lng\": -500744.8630573661, \"Haversine\": 9473.251841189824, \"Minutes\": 89871.16666666677}, {\"member_casual\": \"member\", \"start_station_name\": \"14 St Ferry - 14 St & Shipyard Ln\", \"start_lat\": 298352.21776421706, \"start_lng\": -541932.0934632716, \"end_lat\": 298266.62230212375, \"end_lng\": -541981.3625631516, \"Haversine\": 11314.762894107003, \"Minutes\": 98359.34999999976}, {\"member_casual\": \"member\", \"start_station_name\": \"4 St & Grand St\", \"start_lat\": 245961.05230289532, \"start_lng\": -446949.87327636074, \"end_lat\": 245946.188379298, \"end_lng\": -446932.7358406921, \"Haversine\": 5111.08781802386, \"Minutes\": 47183.466666666616}, {\"member_casual\": \"member\", \"start_station_name\": \"5 Corners Library\", \"start_lat\": 83465.96047364853, \"start_lng\": -151747.9434534236, \"end_lat\": 83458.32101125362, \"end_lng\": -151732.74671086838, \"Haversine\": 2806.357737050341, \"Minutes\": 22118.233333333297}, {\"member_casual\": \"member\", \"start_station_name\": \"6 St & Grand St\", \"start_lat\": 192191.273385102, \"start_lng\": -349220.6952654107, \"end_lat\": 192174.82885420305, \"end_lng\": -349213.12100230553, \"Haversine\": 4202.1186912250205, \"Minutes\": 35925.516666666656}, {\"member_casual\": \"member\", \"start_station_name\": \"7 St & Monroe St\", \"start_lat\": 225001.70919107343, \"start_lng\": -408837.86542199313, \"end_lat\": 224975.046866355, \"end_lng\": -408807.71890967217, \"Haversine\": 5739.793419226063, \"Minutes\": 48058.016666666736}, {\"member_casual\": \"member\", \"start_station_name\": \"8 St & Washington St\", \"start_lat\": 350374.7112162005, \"start_lng\": -636568.3756389016, \"end_lat\": 350339.6705006734, \"end_lng\": -636601.5099572418, \"Haversine\": 8612.71141582623, \"Minutes\": 71368.44999999998}, {\"member_casual\": \"member\", \"start_station_name\": \"9 St HBLR - Jackson St & 8 St\", \"start_lat\": 234545.04813963803, \"start_lng\": -426165.09720704803, \"end_lat\": 234518.24186798595, \"end_lng\": -426131.6904998567, \"Haversine\": 6167.657221358708, \"Minutes\": 54296.60000000005}, {\"member_casual\": \"member\", \"start_station_name\": \"Adams St & 11 St\", \"start_lat\": 108356.61627518604, \"start_lng\": -196855.2119160545, \"end_lat\": 108334.50324371872, \"end_lng\": -196851.61365067345, \"Haversine\": 3072.525713898175, \"Minutes\": 26593.399999999936}, {\"member_casual\": \"member\", \"start_station_name\": \"Adams St & 2 St\", \"start_lat\": 198036.1788375229, \"start_lng\": -359893.36614071217, \"end_lat\": 198037.7545662016, \"end_lng\": -359878.01973556867, \"Haversine\": 4436.476554323998, \"Minutes\": 38936.41666666666}, {\"member_casual\": \"member\", \"start_station_name\": \"Astor Place\", \"start_lat\": 135187.99714873842, \"start_lng\": -245916.61724580437, \"end_lat\": 135211.18360780805, \"end_lng\": -245875.29687703509, \"Haversine\": 5373.649510466527, \"Minutes\": 38133.96666666673}, {\"member_casual\": \"member\", \"start_station_name\": \"Baldwin at Montgomery\", \"start_lat\": 211152.06894565624, \"start_lng\": -384022.8757670802, \"end_lat\": 211160.78085365955, \"end_lng\": -383966.52014464623, \"Haversine\": 7208.563338278617, \"Minutes\": 50598.6666666667}, {\"member_casual\": \"member\", \"start_station_name\": \"Bergen Ave\", \"start_lat\": 161788.92283503633, \"start_lng\": -294285.85626899195, \"end_lat\": 161811.07438941245, \"end_lng\": -294242.9464000846, \"Haversine\": 5451.118661881032, \"Minutes\": 35030.5833333334}, {\"member_casual\": \"member\", \"start_station_name\": \"Bergen Ave & Sip Ave\", \"start_lat\": 279822.26817326015, \"start_lng\": -508822.666153805, \"end_lat\": 279784.8375747542, \"end_lng\": -508829.4007517948, \"Haversine\": 8004.225147970067, \"Minutes\": 55292.01666666646}, {\"member_casual\": \"member\", \"start_station_name\": \"Bergen Ave & Stegman St\", \"start_lat\": 15387.092784975901, \"start_lng\": -28004.77276551716, \"end_lat\": 15392.768552354693, \"end_lng\": -27996.415778216902, \"Haversine\": 1000.5633720818342, \"Minutes\": 8016.6333333333305}, {\"member_casual\": \"member\", \"start_station_name\": \"Bloomfield St & 15 St\", \"start_lat\": 208785.3816750225, \"start_lng\": -379238.16860204143, \"end_lat\": 208723.35001645016, \"end_lng\": -379264.2315635352, \"Haversine\": 7734.15509902994, \"Minutes\": 71515.96666666659}, {\"member_casual\": \"member\", \"start_station_name\": \"Brunswick & 6th\", \"start_lat\": 286344.6664700685, \"start_lng\": -520648.2943875681, \"end_lat\": 286332.62673631276, \"end_lng\": -520601.32215666317, \"Haversine\": 7288.550436338811, \"Minutes\": 63992.649999999936}, {\"member_casual\": \"member\", \"start_station_name\": \"Brunswick St\", \"start_lat\": 257621.05279300414, \"start_lng\": -468444.4740193568, \"end_lat\": 257614.82757926188, \"end_lng\": -468408.1690100827, \"Haversine\": 6228.4544657916285, \"Minutes\": 62697.266666666685}, {\"member_casual\": \"member\", \"start_station_name\": \"Christ Hospital\", \"start_lat\": 131125.28326657024, \"start_lng\": -238368.3802144885, \"end_lat\": 131112.40864687072, \"end_lng\": -238359.27774513906, \"Haversine\": 4011.561112404503, \"Minutes\": 34340.33333333327}, {\"member_casual\": \"member\", \"start_station_name\": \"Church Sq Park - 5 St & Park Ave\", \"start_lat\": 256189.8368101524, \"start_lng\": -465514.74439280166, \"end_lat\": 256181.7715829822, \"end_lng\": -465520.111577031, \"Haversine\": 5862.168111691137, \"Minutes\": 59258.78333333347}, {\"member_casual\": \"member\", \"start_station_name\": \"City Hall\", \"start_lat\": 395694.89027904754, \"start_lng\": -719558.1510443487, \"end_lat\": 395713.01070955204, \"end_lng\": -719587.0769060162, \"Haversine\": 9320.033644308824, \"Minutes\": 115829.66666666714}, {\"member_casual\": \"member\", \"start_station_name\": \"City Hall - Washington St & 1 St\", \"start_lat\": 493981.03552636877, \"start_lng\": -897699.6788647437, \"end_lat\": 494013.7239742276, \"end_lng\": -897765.8184668282, \"Haversine\": 13624.254107352732, \"Minutes\": 109267.31666666684}, {\"member_casual\": \"member\", \"start_station_name\": \"Clinton St & 7 St\", \"start_lat\": 263093.15178557055, \"start_lng\": -478033.20849658136, \"end_lat\": 263073.68193842424, \"end_lng\": -478027.5042251963, \"Haversine\": 5454.5586846019205, \"Minutes\": 45312.133333333266}, {\"member_casual\": \"member\", \"start_station_name\": \"Clinton St & Newark St\", \"start_lat\": 256808.81869669264, \"start_lng\": -466721.07841583056, \"end_lat\": 256814.8397312107, \"end_lng\": -466715.18152205646, \"Haversine\": 6167.270295151034, \"Minutes\": 53804.96666666683}, {\"member_casual\": \"member\", \"start_station_name\": \"Columbus Dr at Exchange Pl\", \"start_lat\": 466045.3304606343, \"start_lng\": -847379.6610640924, \"end_lat\": 466087.8191855954, \"end_lng\": -847454.195265975, \"Haversine\": 11833.045857407134, \"Minutes\": 110646.63333333332}, {\"member_casual\": \"member\", \"start_station_name\": \"Columbus Drive\", \"start_lat\": 319150.70497871906, \"start_lng\": -580316.9066226485, \"end_lat\": 319183.2611380037, \"end_lng\": -580331.3558451845, \"Haversine\": 7300.607756652181, \"Minutes\": 82472.81666666712}, {\"member_casual\": \"member\", \"start_station_name\": \"Columbus Park - Clinton St & 9 St\", \"start_lat\": 240984.69742305987, \"start_lng\": -437827.92673999415, \"end_lat\": 240948.76656770683, \"end_lng\": -437828.62966766243, \"Haversine\": 5680.161053528401, \"Minutes\": 55088.95}, {\"member_casual\": \"member\", \"start_station_name\": \"Communipaw & Berry Lane\", \"start_lat\": 83301.59040613973, \"start_lng\": -151540.31669115316, \"end_lat\": 83314.67891932467, \"end_lng\": -151506.76938432903, \"Haversine\": 3750.4184853152565, \"Minutes\": 26762.133333333368}, {\"member_casual\": \"member\", \"start_station_name\": \"Dey St\", \"start_lat\": 63306.39255372046, \"start_lng\": -115099.99186596766, \"end_lat\": 63296.99806667985, \"end_lng\": -115087.18677092617, \"Haversine\": 1835.2120034339146, \"Minutes\": 19054.066666666695}, {\"member_casual\": \"member\", \"start_station_name\": \"Dixon Mills\", \"start_lat\": 194730.84072364564, \"start_lng\": -354106.9852900494, \"end_lat\": 194730.67560601002, \"end_lng\": -354081.680302602, \"Haversine\": 4388.991561965271, \"Minutes\": 35986.683333333254}, {\"member_casual\": \"member\", \"start_station_name\": \"Essex Light Rail\", \"start_lat\": 156133.48371478164, \"start_lng\": -283929.90963343304, \"end_lat\": 156158.63742877767, \"end_lng\": -283941.24420475843, \"Haversine\": 3762.7888228959996, \"Minutes\": 44644.84999999994}, {\"member_casual\": \"member\", \"start_station_name\": \"Fairmount Ave\", \"start_lat\": 146571.90670947457, \"start_lng\": -266584.9957846984, \"end_lat\": 146581.8783061785, \"end_lng\": -266544.70576312114, \"Haversine\": 4349.99980011757, \"Minutes\": 35756.33333333323}, {\"member_casual\": \"member\", \"start_station_name\": \"Glenwood Ave\", \"start_lat\": 101370.90986959533, \"start_lng\": -184362.87953126707, \"end_lat\": 101371.2779310415, \"end_lng\": -184335.09733348322, \"Haversine\": 3125.5954938874556, \"Minutes\": 28621.1166666666}, {\"member_casual\": \"member\", \"start_station_name\": \"Grand St\", \"start_lat\": 309109.5434263819, \"start_lng\": -562094.0900524693, \"end_lat\": 309163.29388367024, \"end_lng\": -562113.9606862952, \"Haversine\": 8427.800816956793, \"Minutes\": 78165.1833333331}, {\"member_casual\": \"member\", \"start_station_name\": \"Grand St & 14 St\", \"start_lat\": 267305.97599169024, \"start_lng\": -485573.25975968904, \"end_lat\": 267229.2528645527, \"end_lng\": -485591.4963931794, \"Haversine\": 9286.315913440341, \"Minutes\": 65849.00000000012}, {\"member_casual\": \"member\", \"start_station_name\": \"Grant Ave & MLK Dr\", \"start_lat\": 13841.123486818175, \"start_lng\": -25187.478768347835, \"end_lat\": 13844.407395043529, \"end_lng\": -25182.869969727162, \"Haversine\": 587.3195484177959, \"Minutes\": 6219.099999999999}, {\"member_casual\": \"member\", \"start_station_name\": \"Grove St PATH\", \"start_lat\": 1314469.302338695, \"start_lng\": -2390186.2674491755, \"end_lat\": 1314505.8979598742, \"end_lng\": -2390346.4151195395, \"Haversine\": 30447.420062925026, \"Minutes\": 263941.7333333327}, {\"member_casual\": \"member\", \"start_station_name\": \"Hamilton Park\", \"start_lat\": 575480.812042713, \"start_lng\": -1046245.2074526652, \"end_lat\": 575434.1165111616, \"end_lng\": -1046216.5812062678, \"Haversine\": 14339.435103145728, \"Minutes\": 135965.75000000026}, {\"member_casual\": \"member\", \"start_station_name\": \"Harborside\", \"start_lat\": 436306.82478430134, \"start_lng\": -793276.7969578202, \"end_lat\": 436341.59315933095, \"end_lng\": -793304.0943451389, \"Haversine\": 9765.091036020316, \"Minutes\": 101184.25000000022}, {\"member_casual\": \"member\", \"start_station_name\": \"Heights Elevator\", \"start_lat\": 112099.73861856243, \"start_lng\": -203685.289039493, \"end_lat\": 112074.79454230702, \"end_lng\": -203677.63611653238, \"Haversine\": 4139.216763404631, \"Minutes\": 39384.34999999998}, {\"member_casual\": \"member\", \"start_station_name\": \"Hilltop\", \"start_lat\": 176651.0448206462, \"start_lng\": -321187.6243922015, \"end_lat\": 176640.45034850703, \"end_lng\": -321146.9737221416, \"Haversine\": 6573.057434023589, \"Minutes\": 52870.0333333335}, {\"member_casual\": \"member\", \"start_station_name\": \"Hoboken Ave at Monmouth St\", \"start_lat\": 418350.72664234956, \"start_lng\": -760462.1679867087, \"end_lat\": 418341.285627615, \"end_lng\": -760359.3467050729, \"Haversine\": 13797.24605883025, \"Minutes\": 105578.51666666669}, {\"member_casual\": \"member\", \"start_station_name\": \"Hoboken Terminal - Hudson St & Hudson Pl\", \"start_lat\": 693692.2751593683, \"start_lng\": -1260662.1940983473, \"end_lat\": 693749.7090919792, \"end_lng\": -1260791.5046983554, \"Haversine\": 19054.361901364355, \"Minutes\": 137646.61666666693}, {\"member_casual\": \"member\", \"start_station_name\": \"Hoboken Terminal - River St & Hudson Pl\", \"start_lat\": 750766.0184424897, \"start_lng\": -1364356.8523441583, \"end_lat\": 750887.8246169402, \"end_lng\": -1364437.1094722126, \"Haversine\": 22240.187127750272, \"Minutes\": 169847.8666666667}, {\"member_casual\": \"member\", \"start_station_name\": \"Hudson St & 4 St\", \"start_lat\": 335420.3448034223, \"start_lng\": -609477.4321560853, \"end_lat\": 335419.63055439043, \"end_lng\": -609509.7563706213, \"Haversine\": 8468.183483027131, \"Minutes\": 84193.88333333332}, {\"member_casual\": \"member\", \"start_station_name\": \"JC Medical Center\", \"start_lat\": 271945.1456535363, \"start_lng\": -494577.4954385751, \"end_lat\": 271970.2724150668, \"end_lng\": -494543.98130638275, \"Haversine\": 6258.3273161259785, \"Minutes\": 92110.05000000022}, {\"member_casual\": \"member\", \"start_station_name\": \"JCBS Depot\", \"start_lat\": 81.41930166728122, \"start_lng\": -148.13720226287842, \"end_lat\": 81.43304994316361, \"end_lng\": -148.10597598552704, \"Haversine\": 3.0587462415478646, \"Minutes\": 16.7}, {\"member_casual\": \"member\", \"start_station_name\": \"Jackson Square\", \"start_lat\": 33301.70969562385, \"start_lng\": -60596.539192907236, \"end_lat\": 33307.77475416553, \"end_lng\": -60579.77137241148, \"Haversine\": 1764.800979997567, \"Minutes\": 14961.083333333334}, {\"member_casual\": \"member\", \"start_station_name\": \"Jersey & 3rd\", \"start_lat\": 254805.83794573703, \"start_lng\": -463305.4317564827, \"end_lat\": 254811.70518778532, \"end_lng\": -463297.2729757252, \"Haversine\": 4923.41939241248, \"Minutes\": 48896.46666666644}, {\"member_casual\": \"member\", \"start_station_name\": \"Jersey & 6th St\", \"start_lat\": 208676.37041066083, \"start_lng\": -379409.4781177046, \"end_lat\": 208667.2817654733, \"end_lng\": -379394.73173134285, \"Haversine\": 4372.826865520703, \"Minutes\": 42044.216666666514}, {\"member_casual\": \"member\", \"start_station_name\": \"Journal Square\", \"start_lat\": 225868.27565975994, \"start_lng\": -410676.577466849, \"end_lat\": 225860.01756228617, \"end_lng\": -410661.13437140966, \"Haversine\": 6841.5988713702955, \"Minutes\": 53300.88333333349}, {\"member_casual\": \"member\", \"start_station_name\": \"Lafayette Park\", \"start_lat\": 188136.95279813884, \"start_lng\": -342244.4450096423, \"end_lat\": 188165.01225323178, \"end_lng\": -342170.1375815654, \"Haversine\": 7668.110455193612, \"Minutes\": 56668.11666666675}, {\"member_casual\": \"member\", \"start_station_name\": \"Leonard Gordon Park\", \"start_lat\": 117144.46857708156, \"start_lng\": -212914.5923620402, \"end_lat\": 117111.35582116479, \"end_lng\": -212894.1212854444, \"Haversine\": 5094.826866920015, \"Minutes\": 42870.716666666834}, {\"member_casual\": \"member\", \"start_station_name\": \"Liberty Light Rail\", \"start_lat\": 317629.11836635065, \"start_lng\": -577782.5822751896, \"end_lat\": 317685.07512731943, \"end_lng\": -577700.4110212789, \"Haversine\": 10427.366775520675, \"Minutes\": 123398.59999999998}, {\"member_casual\": \"member\", \"start_station_name\": \"Lincoln Park\", \"start_lat\": 109182.67802825347, \"start_lng\": -198604.22143402134, \"end_lat\": 109186.65480741211, \"end_lng\": -198569.17414797735, \"Haversine\": 3409.0291688649972, \"Minutes\": 38590.63333333346}, {\"member_casual\": \"member\", \"start_station_name\": \"Madison St & 1 St\", \"start_lat\": 340820.70009541407, \"start_lng\": -619412.6518029836, \"end_lat\": 340817.8002985922, \"end_lng\": -619355.3648418763, \"Haversine\": 7977.7623676407675, \"Minutes\": 67600.30000000009}, {\"member_casual\": \"member\", \"start_station_name\": \"Madison St & 10 St\", \"start_lat\": 223921.0135368812, \"start_lng\": -406827.0825017711, \"end_lat\": 223885.52875855158, \"end_lng\": -406815.28431929933, \"Haversine\": 6024.922683376978, \"Minutes\": 48745.233333333475}, {\"member_casual\": \"member\", \"start_station_name\": \"Mama Johnson Field - 4 St & Jackson St\", \"start_lat\": 144597.41195317183, \"start_lng\": -262768.1245683343, \"end_lat\": 144588.35021567222, \"end_lng\": -262743.0362013326, \"Haversine\": 3738.334826795212, \"Minutes\": 32099.333333333285}, {\"member_casual\": \"member\", \"start_station_name\": \"Manila & 1st\", \"start_lat\": 298286.1038578366, \"start_lng\": -542364.1283828001, \"end_lat\": 298310.9364494261, \"end_lng\": -542373.5764785911, \"Haversine\": 6564.165581735127, \"Minutes\": 62246.133333333266}, {\"member_casual\": \"member\", \"start_station_name\": \"Marin Light Rail\", \"start_lat\": 531081.0423155425, \"start_lng\": -965814.4932781474, \"end_lat\": 531152.454489478, \"end_lng\": -965792.1915002804, \"Haversine\": 11373.689212375282, \"Minutes\": 136768.4000000006}, {\"member_casual\": \"member\", \"start_station_name\": \"Marshall St & 2 St\", \"start_lat\": 179218.69811291638, \"start_lng\": -325713.1051523761, \"end_lat\": 179212.54700743812, \"end_lng\": -325673.47117044136, \"Haversine\": 4851.718391302406, \"Minutes\": 38122.94999999991}, {\"member_casual\": \"member\", \"start_station_name\": \"McGinley Square\", \"start_lat\": 283570.60627650924, \"start_lng\": -515732.79401694617, \"end_lat\": 283584.55709990923, \"end_lng\": -515680.3245584822, \"Haversine\": 7561.011014374081, \"Minutes\": 57572.78333333332}, {\"member_casual\": \"member\", \"start_station_name\": \"Monmouth and 6th\", \"start_lat\": 213484.0043064011, \"start_lng\": -388163.78815591225, \"end_lat\": 213471.81367965558, \"end_lng\": -388136.15613953886, \"Haversine\": 4903.29448798528, \"Minutes\": 38954.03333333335}, {\"member_casual\": \"member\", \"start_station_name\": \"Montgomery St\", \"start_lat\": 165157.97289746394, \"start_lng\": -300350.82857104996, \"end_lat\": 165167.48274964662, \"end_lng\": -300328.23717541905, \"Haversine\": 4498.16977493157, \"Minutes\": 47822.31666666672}, {\"member_casual\": \"member\", \"start_station_name\": \"Morris Canal\", \"start_lat\": 248671.36514929737, \"start_lng\": -452227.1632317907, \"end_lat\": 248709.8776419457, \"end_lng\": -452220.46385348745, \"Haversine\": 5466.75086464427, \"Minutes\": 65510.28333333322}, {\"member_casual\": \"member\", \"start_station_name\": \"Newark Ave\", \"start_lat\": 335993.2806673045, \"start_lng\": -610956.0382184524, \"end_lat\": 336015.23469199723, \"end_lng\": -610955.3781254803, \"Haversine\": 8368.61464733887, \"Minutes\": 81335.78333333346}, {\"member_casual\": \"member\", \"start_station_name\": \"Newport PATH\", \"start_lat\": 578570.912510122, \"start_lng\": -1051723.5334478517, \"end_lat\": 578551.6212296723, \"end_lng\": -1051797.0340947306, \"Haversine\": 16026.063756427515, \"Minutes\": 154224.7833333329}, {\"member_casual\": \"member\", \"start_station_name\": \"Newport Pkwy\", \"start_lat\": 571668.6653583506, \"start_lng\": -1039114.6596964905, \"end_lat\": 571665.4335703003, \"end_lng\": -1039185.0409770723, \"Haversine\": 15897.815552292812, \"Minutes\": 195518.18333333445}, {\"member_casual\": \"member\", \"start_station_name\": \"Oakland Ave\", \"start_lat\": 160383.91113642594, \"start_lng\": -291544.5396499855, \"end_lat\": 160374.40667128802, \"end_lng\": -291521.87467315054, \"Haversine\": 4900.5547159500275, \"Minutes\": 40851.09999999999}, {\"member_casual\": \"member\", \"start_station_name\": \"Paulus Hook\", \"start_lat\": 264234.80929742754, \"start_lng\": -480477.78508682555, \"end_lat\": 264270.91406298487, \"end_lng\": -480528.5846055851, \"Haversine\": 7614.253380629608, \"Minutes\": 71564.24999999968}, {\"member_casual\": \"member\", \"start_station_name\": \"Pershing Field\", \"start_lat\": 156370.35872547858, \"start_lng\": -284210.80788955156, \"end_lat\": 156339.44122887307, \"end_lng\": -284192.40610360255, \"Haversine\": 5957.083756591469, \"Minutes\": 49662.383333333455}, {\"member_casual\": \"member\", \"start_station_name\": \"Riverview Park\", \"start_lat\": 151324.70163780687, \"start_lng\": -274999.2166737329, \"end_lat\": 151296.03619749332, \"end_lng\": -274978.9762532543, \"Haversine\": 5536.929195813884, \"Minutes\": 48741.31666666665}, {\"member_casual\": \"member\", \"start_station_name\": \"Sip Ave\", \"start_lat\": 316316.1575386462, \"start_lng\": -575180.3376253837, \"end_lat\": 316272.91658537526, \"end_lng\": -575198.675909959, \"Haversine\": 8489.151447258038, \"Minutes\": 69863.83333333301}, {\"member_casual\": \"member\", \"start_station_name\": \"South Waterfront Walkway - Sinatra Dr & 1 St\", \"start_lat\": 675989.747606372, \"start_lng\": -1228416.9300105525, \"end_lat\": 676071.6902272634, \"end_lng\": -1228492.8609324005, \"Haversine\": 21405.752688888435, \"Minutes\": 194448.6000000016}, {\"member_casual\": \"member\", \"start_station_name\": \"Southwest Park - Jackson St & Observer Hwy\", \"start_lat\": 217294.16819655616, \"start_lng\": -394938.2133637151, \"end_lat\": 217295.54726896292, \"end_lng\": -394899.417019156, \"Haversine\": 6155.482756767279, \"Minutes\": 47320.883333333215}, {\"member_casual\": \"member\", \"start_station_name\": \"Stevens - River Ter & 6 St\", \"start_lat\": 190922.36102533643, \"start_lng\": -346890.4390916715, \"end_lat\": 190910.4435282682, \"end_lng\": -346922.28499216813, \"Haversine\": 5037.4813550034305, \"Minutes\": 42400.2166666665}, {\"member_casual\": \"member\", \"start_station_name\": \"Union St\", \"start_lat\": 62787.44719593948, \"start_lng\": -114236.88752164695, \"end_lat\": 62797.48979902961, \"end_lng\": -114205.06187159976, \"Haversine\": 3123.913710336319, \"Minutes\": 30621.483333333344}, {\"member_casual\": \"member\", \"start_station_name\": \"Van Vorst Park\", \"start_lat\": 300583.8448322636, \"start_lng\": -546620.3356828092, \"end_lat\": 300603.0028126848, \"end_lng\": -546603.9528762555, \"Haversine\": 6617.833360827186, \"Minutes\": 80138.81666666645}, {\"member_casual\": \"member\", \"start_station_name\": \"Warren St\", \"start_lat\": 385873.3530435929, \"start_lng\": -701584.511740407, \"end_lat\": 385898.5570044086, \"end_lng\": -701595.8798122829, \"Haversine\": 9002.187232850678, \"Minutes\": 99633.08333333331}, {\"member_casual\": \"member\", \"start_station_name\": \"Washington St\", \"start_lat\": 400604.85893372836, \"start_lng\": -728287.0314503987, \"end_lat\": 400609.9681199605, \"end_lng\": -728319.7285274109, \"Haversine\": 10615.731230161282, \"Minutes\": 112565.79999999965}, {\"member_casual\": \"member\", \"start_station_name\": \"Willow Ave & 12 St\", \"start_lat\": 214273.38061862614, \"start_lng\": -389251.7021492105, \"end_lat\": 214214.60856991564, \"end_lng\": -389265.73475057766, \"Haversine\": 7311.250395185956, \"Minutes\": 52788.149999999914}, {\"member_casual\": \"member\", \"start_station_name\": \"York St & Marin Blvd\", \"start_lat\": 13802.932485281579, \"start_lng\": -25100.377682447433, \"end_lat\": 13804.024262532534, \"end_lng\": -25100.10739945803, \"Haversine\": 252.06272083321588, \"Minutes\": 2661.5999999999985}]}}, {\"mode\": \"vega-lite\"});\n",
       "</script>"
      ],
      "text/plain": [
       "alt.HConcatChart(...)"
      ]
     },
     "execution_count": 5,
     "metadata": {},
     "output_type": "execute_result"
    }
   ],
   "source": [
    "visualize_data(df)"
   ]
  },
  {
   "cell_type": "markdown",
   "id": "6fb60a18",
   "metadata": {},
   "source": [
    "# 3. Data preprocessing"
   ]
  },
  {
   "cell_type": "code",
   "execution_count": 6,
   "id": "1c842fe6",
   "metadata": {},
   "outputs": [],
   "source": [
    "def prepare_data(df):\n",
    "    # Encoding categorical columns\n",
    "    label_encoder = LabelEncoder()\n",
    "    df['member_casual'] = label_encoder.fit_transform(df['member_casual'])\n",
    "    df['start_station_name'] = label_encoder.fit_transform(df['start_station_name'])\n",
    "    df['end_station_name'] = label_encoder.fit_transform(df['end_station_name'])\n",
    "\n",
    "    # Split features and target\n",
    "    X = df[['start_station_name', 'end_station_name', 'Haversine', 'Minutes']].to_numpy()\n",
    "    y = df['member_casual'].to_numpy()\n",
    "\n",
    "    # Scaling input features\n",
    "    scaler = StandardScaler()\n",
    "    X = scaler.fit_transform(X)\n",
    "\n",
    "    return train_test_split(X, y, test_size=0.2, random_state=42)\n"
   ]
  },
  {
   "cell_type": "code",
   "execution_count": 7,
   "id": "d7bf8240",
   "metadata": {},
   "outputs": [],
   "source": [
    "X_train, X_test, y_train, y_test = prepare_data(df)"
   ]
  },
  {
   "cell_type": "markdown",
   "id": "c24b06c4",
   "metadata": {},
   "source": [
    "\n",
    "# 4. Model selection, training, and evaluation"
   ]
  },
  {
   "cell_type": "code",
   "execution_count": 8,
   "id": "980ef2d7",
   "metadata": {},
   "outputs": [],
   "source": [
    "def evaluate_model(model, X_test, y_test):\n",
    "    predictions = model.predict(X_test)\n",
    "    print(\"Accuracy:\", accuracy_score(y_test, predictions))\n",
    "    print(\"F1 Score:\", f1_score(y_test, predictions))\n",
    "    print(\"ROC AUC Score:\", roc_auc_score(y_test, predictions))\n",
    "    print(\"Confusion Matrix:\\n\", confusion_matrix(y_test, predictions))\n",
    "    print(\"Classification Report:\\n\", classification_report(y_test, predictions))"
   ]
  },
  {
   "cell_type": "markdown",
   "id": "83ce5692",
   "metadata": {},
   "source": [
    "Accuracy: 0.665\n",
    "\n",
    "The accuracy represents the proportion of correct predictions out of the total predictions made. An accuracy of 0.665 indicates that the model correctly classified 66.5% of the instances in the test data.\n",
    "F1 Score: 0.791\n",
    "\n",
    "The F1 Score is the harmonic mean of Precision and Recall, providing a balance between these two metrics. An F1 Score of 0.791 for class 1 (positive class) suggests that the model has a reasonable performance in identifying the positive class, but there is still room for improvement.\n",
    "ROC AUC Score: 0.530\n",
    "\n",
    "The ROC AUC Score measures the ability of the model to correctly classify the positive and negative classes across various classification thresholds. An ROC AUC Score of 0.530 is only slightly better than random guessing (0.5) and indicates that the model does not perform well at distinguishing between the two classes."
   ]
  },
  {
   "cell_type": "code",
   "execution_count": 9,
   "id": "31830b73",
   "metadata": {
    "scrolled": true
   },
   "outputs": [
    {
     "name": "stdout",
     "output_type": "stream",
     "text": [
      "Logistic Regression Evaluation\n",
      "Accuracy: 0.6651874322346709\n",
      "F1 Score: 0.7911940110998619\n",
      "ROC AUC Score: 0.5303534930395548\n",
      "Confusion Matrix:\n",
      " [[  5209  53408]\n",
      " [  3102 107062]]\n",
      "Classification Report:\n",
      "               precision    recall  f1-score   support\n",
      "\n",
      "           0       0.63      0.09      0.16     58617\n",
      "           1       0.67      0.97      0.79    110164\n",
      "\n",
      "    accuracy                           0.67    168781\n",
      "   macro avg       0.65      0.53      0.47    168781\n",
      "weighted avg       0.65      0.67      0.57    168781\n",
      "\n"
     ]
    }
   ],
   "source": [
    "# Logistic Regression\n",
    "\n",
    "logreg = LogisticRegression(random_state=42)\n",
    "logreg.fit(X_train, y_train)\n",
    "print(\"Logistic Regression Evaluation\")\n",
    "evaluate_model(logreg, X_test, y_test)\n"
   ]
  },
  {
   "cell_type": "code",
   "execution_count": null,
   "id": "0220e46a",
   "metadata": {},
   "outputs": [],
   "source": [
    "# Random Forest Classifier\n",
    "rf = RandomForestClassifier(random_state=42)\n",
    "rf.fit(X_train, y_train)\n",
    "print(\"Random Forest Evaluation\")\n",
    "evaluate_model(rf, X_test, y_test)"
   ]
  },
  {
   "cell_type": "code",
   "execution_count": null,
   "id": "f7ee6cd7",
   "metadata": {},
   "outputs": [],
   "source": [
    "# XGBoost Classifier\n",
    "xgb = XGBClassifier(random_state=42)\n",
    "xgb.fit(X_train, y_train)\n",
    "print(\"XGBoost Evaluation\")\n",
    "evaluate_model(xgb, X_test, y_test)"
   ]
  },
  {
   "cell_type": "markdown",
   "id": "4f9537db",
   "metadata": {},
   "source": [
    "\n",
    "# 5. Hyperparameter tuning and cross-validation"
   ]
  },
  {
   "cell_type": "code",
   "execution_count": null,
   "id": "f3df4138",
   "metadata": {},
   "outputs": [],
   "source": [
    "# GridSearchCV for RandomForestClassifier\n",
    "param_grid = {\n",
    "    'n_estimators': [10, 50, 100], # can do more but memory limits it\n",
    "    'max_depth': [None, 10, 20, 30],\n",
    "    'min_samples_split': [2, 5, 10],\n",
    "    'min_samples_leaf': [1, 2, 4]\n",
    "}\n",
    "grid_search_rf = GridSearchCV(estimator=RandomForestClassifier(random_state=42), param_grid=param_grid, cv=5)\n",
    "grid_search_rf.fit(X_train, y_train)\n",
    "print(\"Best Parameters for RandomForestClassifier: \", grid_search_rf.best_params_)"
   ]
  },
  {
   "cell_type": "code",
   "execution_count": null,
   "id": "9d335c4a",
   "metadata": {},
   "outputs": [],
   "source": [
    "# Updating the Random Forest model\n",
    "best_rf = grid_search_rf.best_estimator_\n",
    "print(\"Random Forest Evaluation (After GridSearchCV)\")\n",
    "evaluate_model(best_rf, X_test, y_test)\n"
   ]
  },
  {
   "cell_type": "markdown",
   "id": "e43f5b69",
   "metadata": {},
   "source": [
    "# 6. Model Comparison and final model selection"
   ]
  },
  {
   "cell_type": "code",
   "execution_count": null,
   "id": "a1f4efd1",
   "metadata": {},
   "outputs": [],
   "source": [
    "print(\"Logistic Regression Cross-Validated Score:\", np.mean(cross_val_score(logreg, X_train, y_train, cv=5)))\n",
    "\n",
    "print(\"Random Forest Cross-Validated Score:\", np.mean(cross_val_score(best_rf, X_train, y_train, cv=5)))\n",
    "\n",
    "print(\"XGBoost Cross-Validated Score:\", np.mean(cross_val_score(xgb, X_train, y_train, cv=5)))\n",
    "\n",
    "# Based on evaluation metrics and cross-validated score, choose the best model and finalize it for deployment.\n",
    "best_model = best_rf"
   ]
  }
 ],
 "metadata": {
  "kernelspec": {
   "display_name": "Python 3 (ipykernel)",
   "language": "python",
   "name": "python3"
  },
  "language_info": {
   "codemirror_mode": {
    "name": "ipython",
    "version": 3
   },
   "file_extension": ".py",
   "mimetype": "text/x-python",
   "name": "python",
   "nbconvert_exporter": "python",
   "pygments_lexer": "ipython3",
   "version": "3.8.13"
  }
 },
 "nbformat": 4,
 "nbformat_minor": 5
}
