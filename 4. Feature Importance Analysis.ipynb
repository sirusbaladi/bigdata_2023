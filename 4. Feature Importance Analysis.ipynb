{
 "cells": [
  {
   "cell_type": "code",
   "execution_count": null,
   "id": "662d924a",
   "metadata": {},
   "outputs": [],
   "source": [
    "# !pip install xgboost"
   ]
  },
  {
   "cell_type": "code",
   "execution_count": 1,
   "id": "96805a21",
   "metadata": {},
   "outputs": [],
   "source": [
    "# Importing required libraries\n",
    "import dask.dataframe as dd\n",
    "import pandas as pd\n",
    "import numpy as np\n",
    "from math import radians, cos, sin, asin, sqrt\n",
    "from sklearn.linear_model import Lasso\n",
    "from sklearn.ensemble import RandomForestRegressor\n",
    "from xgboost import XGBRegressor\n",
    "import matplotlib.pyplot as plt"
   ]
  },
  {
   "cell_type": "code",
   "execution_count": 5,
   "id": "625c4c5c",
   "metadata": {},
   "outputs": [],
   "source": [
    "# Constants\n",
    "SEED = 1\n",
    "SAMPLE_RATE = 0.1\n",
    "date_format = '%Y-%m-%d %H:%M:%S'\n",
    "FILE_PATHS = [\n",
    "    f\"data/JC-2022{i:02d}-citibike-tripdata.csv\" for i in range(1, 12)\n",
    "] + [\"data/JC-202112-citibike-tripdata.csv\"]"
   ]
  },
  {
   "cell_type": "code",
   "execution_count": 3,
   "id": "cc377bac",
   "metadata": {},
   "outputs": [],
   "source": [
    "# Function to load data\n",
    "def load_data(file_names, sample_rate):\n",
    "    data_arr = [dd.read_csv(file).sample(frac=sample_rate) for file in file_names]\n",
    "    data = dd.concat(data_arr)\n",
    "    return data.compute()\n",
    "\n",
    "# Function to calculate haversine distance\n",
    "def haversine(lon1, lat1, lon2, lat2):\n",
    "    lon1, lat1, lon2, lat2 = map(radians, [lon1, lat1, lon2, lat2])\n",
    "    dlon = lon2 - lon1\n",
    "    dlat = lat2 - lat1\n",
    "    a = sin(dlat/2)**2 + cos(lat1) * cos(lat2) * sin(dlon/2)**2\n",
    "    c = 2 * asin(sqrt(a))\n",
    "    r = 6371  # Radius of earth in kilometers. Use 3956 for miles.\n",
    "    return c * r\n"
   ]
  },
  {
   "cell_type": "code",
   "execution_count": 6,
   "id": "0bc0c9c0",
   "metadata": {},
   "outputs": [],
   "source": [
    "# Load data\n",
    "data = load_data(FILE_PATHS, SAMPLE_RATE)\n"
   ]
  },
  {
   "cell_type": "code",
   "execution_count": 9,
   "id": "bef84611",
   "metadata": {},
   "outputs": [
    {
     "name": "stderr",
     "output_type": "stream",
     "text": [
      "/tmp/ipykernel_18666/4292928167.py:9: FutureWarning: Series.dt.weekofyear and Series.dt.week have been deprecated.  Please use Series.dt.isocalendar().week instead.\n",
      "  week=data.started_at.dt.week\n"
     ]
    }
   ],
   "source": [
    "# Data preprocessing\n",
    "data['started_at'] = pd.to_datetime(data.started_at, format=date_format)\n",
    "data['ended_at'] = pd.to_datetime(data.ended_at, format=date_format)\n",
    "\n",
    "data = data.assign(\n",
    "    started_at=pd.to_datetime(data.started_at, format=date_format),\n",
    "    ended_at=pd.to_datetime(data.ended_at, format=date_format),\n",
    "    start_hour=data.started_at.dt.hour,\n",
    "    week=data.started_at.dt.week\n",
    ")\n",
    "data = data.assign(\n",
    "    trip_duration=((data.ended_at - data.started_at).dt.seconds) / 60\n",
    ")\n",
    "data['trip_duration'] = data['trip_duration'].round(0)\n",
    "\n",
    "\n",
    "data = data.assign(\n",
    "    distance=data.apply(lambda x: haversine(x.start_lng, x.start_lat, x.end_lng, x.end_lat), axis=1)\n",
    ")\n",
    "\n",
    "data = data.drop(columns=['started_at', 'ended_at'])\n",
    "data = data.dropna()\n",
    "\n"
   ]
  },
  {
   "cell_type": "code",
   "execution_count": 10,
   "id": "2ffee0fe",
   "metadata": {},
   "outputs": [],
   "source": [
    "# Encoding categorical features\n",
    "data = data.assign(\n",
    "    classic_bike=data.rideable_type=='classic_bike',\n",
    "    docked_bike=data.rideable_type=='docked_bike',\n",
    "    is_member=data.member_casual=='member',\n",
    "    is_casual=data.member_casual=='casual'\n",
    ")\n"
   ]
  },
  {
   "cell_type": "code",
   "execution_count": 11,
   "id": "9fd73860",
   "metadata": {},
   "outputs": [],
   "source": [
    "# Group by data from start stations\n",
    "start_agg = data.groupby('start_station_id').agg(\n",
    "    total_trips_start=('ride_id', 'count'),\n",
    "    avg_distance=('distance', 'mean'),\n",
    "    avg_duration=('trip_duration', 'mean'),\n",
    "    start_lat=('start_lat', 'mean'),\n",
    "    start_lng=('start_lng', 'mean'),\n",
    "    total_docked_bike=('docked_bike', 'sum'),\n",
    "    total_classic_bike=('classic_bike', 'sum'),\n",
    "    total_member=('is_member', 'sum'),\n",
    "    total_casual=('is_casual', 'sum')\n",
    ")"
   ]
  },
  {
   "cell_type": "code",
   "execution_count": 12,
   "id": "17984800",
   "metadata": {},
   "outputs": [],
   "source": [
    "# Group by data from end stations\n",
    "end_agg = data.groupby('end_station_id').agg(\n",
    "    total_trips_end=('ride_id', 'count'),\n",
    "    avg_distance=('distance', 'mean'),\n",
    "    avg_duration=('trip_duration', 'mean'),\n",
    "    end_lat=('end_lat', 'mean'),\n",
    "    end_lng=('end_lng', 'mean'),\n",
    "    total_docked_bike=('docked_bike', 'sum'),\n",
    "    total_classic_bike=('classic_bike', 'sum'),\n",
    "    total_member=('is_member', 'sum'),\n",
    "    total_casual=('is_casual', 'sum')\n",
    ")"
   ]
  },
  {
   "cell_type": "code",
   "execution_count": 13,
   "id": "9f5484b5",
   "metadata": {},
   "outputs": [],
   "source": [
    "# Merging start and end station data\n",
    "station_data = pd.merge(start_agg.reset_index(), end_agg.reset_index(), left_on='start_station_id', right_on='end_station_id')\n"
   ]
  },
  {
   "cell_type": "code",
   "execution_count": 14,
   "id": "7c036378",
   "metadata": {},
   "outputs": [],
   "source": [
    "# Feature Engineering\n",
    "station_data = station_data.assign(\n",
    "    total_trips=station_data.total_trips_start + station_data.total_trips_end,\n",
    "    lat_diff=abs(station_data.start_lat - station_data.end_lat),\n",
    "    lng_diff=abs(station_data.start_lng - station_data.end_lng),\n",
    "    bike_diff=abs(station_data.total_docked_bike_x - station_data.total_docked_bike_y),\n",
    "    classic_bike_diff=abs(station_data.total_classic_bike_x - station_data.total_classic_bike_y),\n",
    "    member_diff=abs(station_data.total_member_x - station_data.total_member_y),\n",
    "    casual_diff=abs(station_data.total_casual_x - station_data.total_casual_y)\n",
    ")"
   ]
  },
  {
   "cell_type": "code",
   "execution_count": 15,
   "id": "6292365f",
   "metadata": {},
   "outputs": [],
   "source": [
    "# Drop unnecessary columns\n",
    "columns_to_drop = [\n",
    "    'start_station_id', 'end_station_id', 'start_lat', 'start_lng',\n",
    "    'end_lat', 'end_lng', 'total_trips_start', 'total_trips_end',\n",
    "    'total_docked_bike_x', 'total_classic_bike_x', 'total_member_x', 'total_casual_x',\n",
    "    'total_docked_bike_y', 'total_classic_bike_y', 'total_member_y', 'total_casual_y'\n",
    "]\n",
    "station_data = station_data.drop(columns=columns_to_drop)\n"
   ]
  },
  {
   "cell_type": "code",
   "execution_count": 16,
   "id": "a1ea6eef",
   "metadata": {},
   "outputs": [],
   "source": [
    "# Split the data into features and target\n",
    "X = station_data.drop(columns=['total_trips'])\n",
    "y = station_data.total_trips\n",
    "\n",
    "# Train-test split\n",
    "train_size = int(len(X) * 0.8)\n",
    "X_train, X_test = X[:train_size], X[train_size:]\n",
    "y_train, y_test = y[:train_size], y[train_size:]\n"
   ]
  },
  {
   "cell_type": "code",
   "execution_count": 17,
   "id": "08630b4e",
   "metadata": {},
   "outputs": [],
   "source": [
    "# Model training and evaluation\n",
    "models = [\n",
    "    ('Lasso', Lasso(alpha=0.1, random_state=SEED)),\n",
    "    ('Random Forest', RandomForestRegressor(n_estimators=100, random_state=SEED)),\n",
    "    ('XGBoost', XGBRegressor(n_estimators=100, random_state=SEED))\n",
    "]\n"
   ]
  },
  {
   "cell_type": "code",
   "execution_count": 18,
   "id": "05e83b8e",
   "metadata": {
    "scrolled": true
   },
   "outputs": [
    {
     "name": "stdout",
     "output_type": "stream",
     "text": [
      "Lasso - Train Score: 0.476, Test Score: 0.063\n",
      "Random Forest - Train Score: 0.911, Test Score: -0.498\n",
      "XGBoost - Train Score: 1.000, Test Score: -0.350\n"
     ]
    }
   ],
   "source": [
    "for name, model in models:\n",
    "    model.fit(X_train, y_train)\n",
    "    train_score = model.score(X_train, y_train)\n",
    "    test_score = model.score(X_test, y_test)\n"
   ]
  },
  {
   "cell_type": "code",
   "execution_count": null,
   "id": "94e6a558",
   "metadata": {},
   "outputs": [],
   "source": [
    "print(\"Random Forest Feature Importance\")\n",
    "for i,val in enumerate(duration_by_member_type.index):\n",
    "    print(val,  \": \" , duration_by_member_type.values)\n",
    "    \n",
    "print(\"col 1:User Type\")\n",
    "print(\"cold 2: Average Duration (Seconds)\")"
   ]
  },
  {
   "cell_type": "code",
   "execution_count": 22,
   "id": "6d69d7ae",
   "metadata": {
    "scrolled": true
   },
   "outputs": [
    {
     "name": "stdout",
     "output_type": "stream",
     "text": [
      "Random Forest Feature Importance\n"
     ]
    },
    {
     "data": {
      "text/plain": [
       "avg_distance_x       0.112823\n",
       "avg_duration_x       0.029493\n",
       "avg_distance_y       0.028900\n",
       "avg_duration_y       0.037008\n",
       "lat_diff             0.070026\n",
       "lng_diff             0.030794\n",
       "bike_diff            0.052260\n",
       "classic_bike_diff    0.052362\n",
       "member_diff          0.435846\n",
       "casual_diff          0.150488\n",
       "dtype: float64"
      ]
     },
     "execution_count": 22,
     "metadata": {},
     "output_type": "execute_result"
    }
   ],
   "source": [
    "print(\"Random Forest Feature Importance\")\n",
    "feature_importances"
   ]
  },
  {
   "cell_type": "markdown",
   "id": "2e187662",
   "metadata": {},
   "source": [
    "\n",
    "This bar plot shows the importance of each feature in the Random Forest model. The higher the bar, the more important the feature is in making predictions. In this case, 'member_diff' has the highest importance, followed by 'casual_diff' and 'avg_distance_x'. This means that the difference in the number of members and casual users, as well as the average distance of trips starting from a station, are the most important factors in predicting the total number of trips. These insights can be helpful in understanding user behavior and making decisions related to station locations, bike availability, and marketing strategies."
   ]
  },
  {
   "cell_type": "code",
   "execution_count": 19,
   "id": "b696cf9f",
   "metadata": {},
   "outputs": [
    {
     "data": {
      "image/png": "[encoded data removed]",
      "text/plain": [
       "<Figure size 720x360 with 1 Axes>"
      ]
     },
     "metadata": {
      "needs_background": "light"
     },
     "output_type": "display_data"
    }
   ],
   "source": [
    "# Feature importances (Random Forest)\n",
    "rf_model = models[1][1]\n",
    "feature_importances = pd.Series(rf_model.feature_importances_, index=X.columns)\n",
    "feature_importances.plot(kind='bar', figsize=(10, 5))\n",
    "plt.ylabel('Feature Importance')\n",
    "plt.title('Random Forest Feature Importance')\n",
    "plt.show()\n"
   ]
  },
  {
   "cell_type": "code",
   "execution_count": null,
   "id": "8026df02",
   "metadata": {},
   "outputs": [],
   "source": []
  }
 ],
 "metadata": {
  "kernelspec": {
   "display_name": "Python 3 (ipykernel)",
   "language": "python",
   "name": "python3"
  },
  "language_info": {
   "codemirror_mode": {
    "name": "ipython",
    "version": 3
   },
   "file_extension": ".py",
   "mimetype": "text/x-python",
   "name": "python",
   "nbconvert_exporter": "python",
   "pygments_lexer": "ipython3",
   "version": "3.8.13"
  }
 },
 "nbformat": 4,
 "nbformat_minor": 5
}
