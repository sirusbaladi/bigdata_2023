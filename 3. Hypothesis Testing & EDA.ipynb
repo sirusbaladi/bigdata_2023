{
 "cells": [
  {
   "cell_type": "code",
   "execution_count": 1,
   "id": "423cbe8f",
   "metadata": {},
   "outputs": [],
   "source": [
    "import numpy as np\n",
    "import pandas as pd\n",
    "import matplotlib.pyplot as plt\n",
    "from scipy import stats\n",
    "import squarify\n",
    "from pathlib import Path"
   ]
  },
  {
   "cell_type": "code",
   "execution_count": 2,
   "id": "68635bef",
   "metadata": {},
   "outputs": [],
   "source": [
    "SEED = 1\n",
    "SAMPLE_RATE = 0.1"
   ]
  },
  {
   "cell_type": "code",
   "execution_count": 3,
   "id": "b57d60ec",
   "metadata": {},
   "outputs": [],
   "source": [
    "data_folder = Path(\"data/\")\n",
    "file_names = sorted(list(data_folder.glob('JC-*.csv')))"
   ]
  },
  {
   "cell_type": "code",
   "execution_count": 4,
   "id": "2f54dbd4",
   "metadata": {},
   "outputs": [],
   "source": [
    "dfs = [pd.read_csv(file) for file in file_names]\n",
    "df = pd.concat(dfs, ignore_index=True)"
   ]
  },
  {
   "cell_type": "code",
   "execution_count": 5,
   "id": "cbbfa262",
   "metadata": {},
   "outputs": [],
   "source": [
    "# convert 'started_at' and 'ended_at' columns to datetime objects\n",
    "df['started_at'] = pd.to_datetime(df['started_at'])\n",
    "df['ended_at'] = pd.to_datetime(df['ended_at'])\n",
    "\n",
    "# create a 'month' column for easy grouping\n",
    "df['month'] = df['started_at'].dt.month"
   ]
  },
  {
   "cell_type": "code",
   "execution_count": 6,
   "id": "9c0d6b76",
   "metadata": {},
   "outputs": [],
   "source": [
    "# calculate daily rides per month\n",
    "daily_rides_per_month = df.groupby(df['started_at'].dt.to_period('D')).size()\n",
    "daily_rides_per_month = daily_rides_per_month.reset_index(name='count')\n",
    "daily_rides_per_month['month'] = daily_rides_per_month['started_at'].dt.month"
   ]
  },
  {
   "cell_type": "markdown",
   "id": "99653357",
   "metadata": {},
   "source": [
    "Below shows the average number of daily rides per month. It provides insights into the seasonality of bike rides, indicating which months have higher demand. In this case, months 6 through 9 (June to September) have the highest number of rides, which suggests that these months have higher usage, possibly due to warmer weather and outdoor activities. Indeed, summer time seems more popular then winter time for biking"
   ]
  },
  {
   "cell_type": "code",
   "execution_count": 29,
   "id": "c42e3bdd",
   "metadata": {},
   "outputs": [
    {
     "name": "stdout",
     "output_type": "stream",
     "text": [
      "Average Daily Rides Per Month\n",
      "1 :  month\n",
      "1      863.290323\n",
      "2     1139.678571\n",
      "3     1666.806452\n",
      "4     2084.266667\n",
      "5     2596.193548\n",
      "6     3443.300000\n",
      "7     3500.064516\n",
      "8     3717.129032\n",
      "9     3474.900000\n",
      "10    2888.967742\n",
      "11    2423.633333\n",
      "12    1549.064516\n",
      "Name: count, dtype: float64\n",
      "2 :  month\n",
      "1      863.290323\n",
      "2     1139.678571\n",
      "3     1666.806452\n",
      "4     2084.266667\n",
      "5     2596.193548\n",
      "6     3443.300000\n",
      "7     3500.064516\n",
      "8     3717.129032\n",
      "9     3474.900000\n",
      "10    2888.967742\n",
      "11    2423.633333\n",
      "12    1549.064516\n",
      "Name: count, dtype: float64\n",
      "3 :  month\n",
      "1      863.290323\n",
      "2     1139.678571\n",
      "3     1666.806452\n",
      "4     2084.266667\n",
      "5     2596.193548\n",
      "6     3443.300000\n",
      "7     3500.064516\n",
      "8     3717.129032\n",
      "9     3474.900000\n",
      "10    2888.967742\n",
      "11    2423.633333\n",
      "12    1549.064516\n",
      "Name: count, dtype: float64\n",
      "4 :  month\n",
      "1      863.290323\n",
      "2     1139.678571\n",
      "3     1666.806452\n",
      "4     2084.266667\n",
      "5     2596.193548\n",
      "6     3443.300000\n",
      "7     3500.064516\n",
      "8     3717.129032\n",
      "9     3474.900000\n",
      "10    2888.967742\n",
      "11    2423.633333\n",
      "12    1549.064516\n",
      "Name: count, dtype: float64\n",
      "5 :  month\n",
      "1      863.290323\n",
      "2     1139.678571\n",
      "3     1666.806452\n",
      "4     2084.266667\n",
      "5     2596.193548\n",
      "6     3443.300000\n",
      "7     3500.064516\n",
      "8     3717.129032\n",
      "9     3474.900000\n",
      "10    2888.967742\n",
      "11    2423.633333\n",
      "12    1549.064516\n",
      "Name: count, dtype: float64\n",
      "6 :  month\n",
      "1      863.290323\n",
      "2     1139.678571\n",
      "3     1666.806452\n",
      "4     2084.266667\n",
      "5     2596.193548\n",
      "6     3443.300000\n",
      "7     3500.064516\n",
      "8     3717.129032\n",
      "9     3474.900000\n",
      "10    2888.967742\n",
      "11    2423.633333\n",
      "12    1549.064516\n",
      "Name: count, dtype: float64\n",
      "7 :  month\n",
      "1      863.290323\n",
      "2     1139.678571\n",
      "3     1666.806452\n",
      "4     2084.266667\n",
      "5     2596.193548\n",
      "6     3443.300000\n",
      "7     3500.064516\n",
      "8     3717.129032\n",
      "9     3474.900000\n",
      "10    2888.967742\n",
      "11    2423.633333\n",
      "12    1549.064516\n",
      "Name: count, dtype: float64\n",
      "8 :  month\n",
      "1      863.290323\n",
      "2     1139.678571\n",
      "3     1666.806452\n",
      "4     2084.266667\n",
      "5     2596.193548\n",
      "6     3443.300000\n",
      "7     3500.064516\n",
      "8     3717.129032\n",
      "9     3474.900000\n",
      "10    2888.967742\n",
      "11    2423.633333\n",
      "12    1549.064516\n",
      "Name: count, dtype: float64\n",
      "9 :  month\n",
      "1      863.290323\n",
      "2     1139.678571\n",
      "3     1666.806452\n",
      "4     2084.266667\n",
      "5     2596.193548\n",
      "6     3443.300000\n",
      "7     3500.064516\n",
      "8     3717.129032\n",
      "9     3474.900000\n",
      "10    2888.967742\n",
      "11    2423.633333\n",
      "12    1549.064516\n",
      "Name: count, dtype: float64\n",
      "10 :  month\n",
      "1      863.290323\n",
      "2     1139.678571\n",
      "3     1666.806452\n",
      "4     2084.266667\n",
      "5     2596.193548\n",
      "6     3443.300000\n",
      "7     3500.064516\n",
      "8     3717.129032\n",
      "9     3474.900000\n",
      "10    2888.967742\n",
      "11    2423.633333\n",
      "12    1549.064516\n",
      "Name: count, dtype: float64\n",
      "11 :  month\n",
      "1      863.290323\n",
      "2     1139.678571\n",
      "3     1666.806452\n",
      "4     2084.266667\n",
      "5     2596.193548\n",
      "6     3443.300000\n",
      "7     3500.064516\n",
      "8     3717.129032\n",
      "9     3474.900000\n",
      "10    2888.967742\n",
      "11    2423.633333\n",
      "12    1549.064516\n",
      "Name: count, dtype: float64\n",
      "12 :  month\n",
      "1      863.290323\n",
      "2     1139.678571\n",
      "3     1666.806452\n",
      "4     2084.266667\n",
      "5     2596.193548\n",
      "6     3443.300000\n",
      "7     3500.064516\n",
      "8     3717.129032\n",
      "9     3474.900000\n",
      "10    2888.967742\n",
      "11    2423.633333\n",
      "12    1549.064516\n",
      "Name: count, dtype: float64\n",
      "col 1:Month\n",
      "cold 2: # of Rides\n"
     ]
    }
   ],
   "source": [
    "print(\"Average Daily Rides Per Month\")\n",
    "for i,val in enumerate(avg_daily_rides.index):\n",
    "    print(val,  \": \" , avg_daily_rides)\n",
    "    \n",
    "print(\"col 1:Month\")\n",
    "print(\"cold 2: # of Rides\")"
   ]
  },
  {
   "cell_type": "code",
   "execution_count": 7,
   "id": "e0c565d2",
   "metadata": {
    "scrolled": true
   },
   "outputs": [
    {
     "data": {
      "image/png": "[encoded data removed]",
      "text/plain": [
       "<Figure size 432x288 with 1 Axes>"
      ]
     },
     "metadata": {
      "needs_background": "light"
     },
     "output_type": "display_data"
    }
   ],
   "source": [
    "# plot average daily rides per month\n",
    "avg_daily_rides = daily_rides_per_month.groupby('month')['count'].mean()\n",
    "plt.bar(avg_daily_rides.index, avg_daily_rides)\n",
    "plt.title('Average Daily Rides Per Month')\n",
    "plt.ylabel('# of Rides')\n",
    "plt.xlabel('Month')\n",
    "plt.xticks(rotation=90)\n",
    "plt.show()"
   ]
  },
  {
   "cell_type": "markdown",
   "id": "809872a5",
   "metadata": {},
   "source": [
    "This plot compares the daily rides per month, showing the variations and trends for each month. The plot helps us understand the consistency of bike usage within a month and observe any patterns that may emerge. For example, we can see if specific months have higher variability in daily rides, which can be useful for further investigation and understanding the factors influencing these fluctuations."
   ]
  },
  {
   "cell_type": "markdown",
   "id": "f88339b2",
   "metadata": {},
   "source": [
    "From the graph we can see that the least busy months also have lower variability. An idea could be that those months have a more inelastic demand. People that bike in winter time are less discouraged by bad weather and probably use citibike as the primary commuting method. During summer, where there's higher demand, supply is more elastic. Seasonal riders might not use bikes as primary transporation method and are more dependent on weather conditions."
   ]
  },
  {
   "cell_type": "code",
   "execution_count": 8,
   "id": "64a578ff",
   "metadata": {},
   "outputs": [
    {
     "data": {
      "image/png": "[encoded data removed]",
      "text/plain": [
       "<Figure size 432x288 with 1 Axes>"
      ]
     },
     "metadata": {
      "needs_background": "light"
     },
     "output_type": "display_data"
    }
   ],
   "source": [
    "# plot daily rides per month\n",
    "daily_rides_pivot = daily_rides_per_month.pivot_table(index='started_at', columns='month', values='count')\n",
    "daily_rides_pivot.plot(title='Comparison of Daily Rides per Month', ylabel='# of Rides')\n",
    "plt.legend(title='Month', bbox_to_anchor=(1.05, 1.0), loc='upper left')\n",
    "plt.show()"
   ]
  },
  {
   "cell_type": "code",
   "execution_count": 9,
   "id": "c6d7e2e1",
   "metadata": {},
   "outputs": [],
   "source": [
    "# calculate rush hour and off-hour rides\n",
    "rush_hour_morning = df[df['started_at'].dt.hour.between(7, 9)]\n",
    "rush_hour_evening = df[df['started_at'].dt.hour.between(16, 19)]\n",
    "rush_hour_df = pd.concat([rush_hour_morning, rush_hour_evening])\n",
    "off_hour_df = df.drop(rush_hour_df.index)"
   ]
  },
  {
   "cell_type": "code",
   "execution_count": 10,
   "id": "57d3ae97",
   "metadata": {},
   "outputs": [],
   "source": [
    "# calculate start station counts for rush hour and off-hour\n",
    "rush_hour_counts = rush_hour_df['start_station_name'].value_counts()\n",
    "off_hour_counts = off_hour_df['start_station_name'].value_counts()"
   ]
  },
  {
   "cell_type": "code",
   "execution_count": 32,
   "id": "79f60b74",
   "metadata": {
    "scrolled": true
   },
   "outputs": [
    {
     "data": {
      "text/plain": [
       "Grove St PATH                                   21451\n",
       "Hoboken Terminal - River St & Hudson Pl         17019\n",
       "South Waterfront Walkway - Sinatra Dr & 1 St    15933\n",
       "Hoboken Terminal - Hudson St & Hudson Pl        15585\n",
       "Hamilton Park                                   10615\n",
       "Name: start_station_name, dtype: int64"
      ]
     },
     "execution_count": 32,
     "metadata": {},
     "output_type": "execute_result"
    }
   ],
   "source": [
    "rush_hour_counts[:top_n]"
   ]
  },
  {
   "cell_type": "markdown",
   "id": "a8706349",
   "metadata": {},
   "source": [
    "This bar plot shows the top 5 stations where the most rides start during rush hour. This information can be useful for planning resources and optimizing the distribution of bikes across the network. It can also help identify areas with high demand during rush hour for potential expansion or targeted marketing campaigns.\n",
    "\n"
   ]
  },
  {
   "cell_type": "code",
   "execution_count": 11,
   "id": "dd0e8bc0",
   "metadata": {
    "scrolled": true
   },
   "outputs": [
    {
     "data": {
      "image/png": "[encoded data removed]",
      "text/plain": [
       "<Figure size 432x288 with 1 Axes>"
      ]
     },
     "metadata": {
      "needs_background": "light"
     },
     "output_type": "display_data"
    }
   ],
   "source": [
    "# plot top 5 stations for rush hour and off-hour rides\n",
    "top_n = 5\n",
    "rush_hour_counts[:top_n].plot(kind='bar', title='Top 5 Stations where Rush Hour Rides Started', ylabel='# of Rides')\n",
    "plt.show()"
   ]
  },
  {
   "cell_type": "code",
   "execution_count": 33,
   "id": "c49d1e92",
   "metadata": {
    "scrolled": true
   },
   "outputs": [
    {
     "data": {
      "text/plain": [
       "Grove St PATH                                   20876\n",
       "South Waterfront Walkway - Sinatra Dr & 1 St    18054\n",
       "Hoboken Terminal - River St & Hudson Pl         15620\n",
       "Hoboken Terminal - Hudson St & Hudson Pl        14808\n",
       "City Hall - Washington St & 1 St                13303\n",
       "Name: start_station_name, dtype: int64"
      ]
     },
     "execution_count": 33,
     "metadata": {},
     "output_type": "execute_result"
    }
   ],
   "source": [
    "off_hour_counts[:top_n]"
   ]
  },
  {
   "cell_type": "markdown",
   "id": "396e180c",
   "metadata": {},
   "source": [
    "Similar to the previous plot, this bar plot shows the top 5 stations where the most rides start during off-hours. Understanding the popular off-hour stations can help identify areas with high demand outside of rush hour and provide insights into different user behavior patterns."
   ]
  },
  {
   "cell_type": "code",
   "execution_count": 12,
   "id": "b99fa9f9",
   "metadata": {},
   "outputs": [
    {
     "data": {
      "image/png": "[encoded data removed]",
      "text/plain": [
       "<Figure size 432x288 with 1 Axes>"
      ]
     },
     "metadata": {
      "needs_background": "light"
     },
     "output_type": "display_data"
    }
   ],
   "source": [
    "off_hour_counts[:top_n].plot(kind='bar', title='Top 5 Stations where Off Hour Rides Started', ylabel='# of Rides')\n",
    "plt.show()\n"
   ]
  },
  {
   "cell_type": "code",
   "execution_count": 13,
   "id": "012678eb",
   "metadata": {},
   "outputs": [
    {
     "name": "stdout",
     "output_type": "stream",
     "text": [
      "Ttest_indResult(statistic=-0.640148240110387, pvalue=0.52295881108915)\n",
      "KstestResult(statistic=0.14285714285714285, pvalue=0.3597762347141508)\n",
      "MannwhitneyuResult(statistic=3322.0, pvalue=0.2572318124356094)\n"
     ]
    }
   ],
   "source": [
    "# compare rush hour and off-hour distributions\n",
    "print(stats.ttest_ind(rush_hour_counts, off_hour_counts))\n",
    "print(stats.kstest(rush_hour_counts, off_hour_counts))\n",
    "print(stats.mannwhitneyu(rush_hour_counts, off_hour_counts))\n"
   ]
  },
  {
   "cell_type": "code",
   "execution_count": 17,
   "id": "06fac378",
   "metadata": {},
   "outputs": [],
   "source": [
    "\n",
    "df['started_at'] = pd.to_datetime(df['started_at'])\n",
    "\n",
    "df['month'] = df['started_at'].dt.strftime('%Y-%m')\n",
    "\n",
    "df['duration'] = (df['ended_at'] - df['started_at']).dt.total_seconds()\n",
    "\n",
    "avg_duration_per_month = df.groupby('month')['duration'].mean()\n"
   ]
  },
  {
   "cell_type": "code",
   "execution_count": 18,
   "id": "35a212da",
   "metadata": {},
   "outputs": [],
   "source": [
    "\n",
    "df['duration'] = (df['ended_at'] - df['started_at']).dt.total_seconds()\n",
    "\n",
    "avg_duration_per_month = df.groupby('month')['duration'].mean()\n",
    "\n"
   ]
  },
  {
   "cell_type": "markdown",
   "id": "fd28db7a",
   "metadata": {},
   "source": [
    "The output and line plot show the average ride duration per month in seconds. It helps us understand if there are any significant changes in ride durations over time, which could indicate changes in customer behavior or external factors affecting ride durations."
   ]
  },
  {
   "cell_type": "markdown",
   "id": "04a13a1f",
   "metadata": {},
   "source": [
    "This is consistent with the previous data. During warmer months, casual users will probably bike for fun. The duration is lower."
   ]
  },
  {
   "cell_type": "code",
   "execution_count": 34,
   "id": "b66d46aa",
   "metadata": {},
   "outputs": [
    {
     "name": "stdout",
     "output_type": "stream",
     "text": [
      "Average Ride Duration Per Month\n",
      "2021-12 :  month\n",
      "2021-12    1152.612794\n",
      "2022-01    1475.711307\n",
      "2022-02     940.787409\n",
      "2022-03     900.660970\n",
      "2022-04    1046.978154\n",
      "2022-05    1181.578949\n",
      "2022-06    1258.314069\n",
      "2022-07    1268.495484\n",
      "2022-08    1050.669342\n",
      "2022-09     996.240410\n",
      "2022-10     905.132908\n",
      "2022-11     772.926515\n",
      "Name: duration, dtype: float64\n",
      "2022-01 :  month\n",
      "2021-12    1152.612794\n",
      "2022-01    1475.711307\n",
      "2022-02     940.787409\n",
      "2022-03     900.660970\n",
      "2022-04    1046.978154\n",
      "2022-05    1181.578949\n",
      "2022-06    1258.314069\n",
      "2022-07    1268.495484\n",
      "2022-08    1050.669342\n",
      "2022-09     996.240410\n",
      "2022-10     905.132908\n",
      "2022-11     772.926515\n",
      "Name: duration, dtype: float64\n",
      "2022-02 :  month\n",
      "2021-12    1152.612794\n",
      "2022-01    1475.711307\n",
      "2022-02     940.787409\n",
      "2022-03     900.660970\n",
      "2022-04    1046.978154\n",
      "2022-05    1181.578949\n",
      "2022-06    1258.314069\n",
      "2022-07    1268.495484\n",
      "2022-08    1050.669342\n",
      "2022-09     996.240410\n",
      "2022-10     905.132908\n",
      "2022-11     772.926515\n",
      "Name: duration, dtype: float64\n",
      "2022-03 :  month\n",
      "2021-12    1152.612794\n",
      "2022-01    1475.711307\n",
      "2022-02     940.787409\n",
      "2022-03     900.660970\n",
      "2022-04    1046.978154\n",
      "2022-05    1181.578949\n",
      "2022-06    1258.314069\n",
      "2022-07    1268.495484\n",
      "2022-08    1050.669342\n",
      "2022-09     996.240410\n",
      "2022-10     905.132908\n",
      "2022-11     772.926515\n",
      "Name: duration, dtype: float64\n",
      "2022-04 :  month\n",
      "2021-12    1152.612794\n",
      "2022-01    1475.711307\n",
      "2022-02     940.787409\n",
      "2022-03     900.660970\n",
      "2022-04    1046.978154\n",
      "2022-05    1181.578949\n",
      "2022-06    1258.314069\n",
      "2022-07    1268.495484\n",
      "2022-08    1050.669342\n",
      "2022-09     996.240410\n",
      "2022-10     905.132908\n",
      "2022-11     772.926515\n",
      "Name: duration, dtype: float64\n",
      "2022-05 :  month\n",
      "2021-12    1152.612794\n",
      "2022-01    1475.711307\n",
      "2022-02     940.787409\n",
      "2022-03     900.660970\n",
      "2022-04    1046.978154\n",
      "2022-05    1181.578949\n",
      "2022-06    1258.314069\n",
      "2022-07    1268.495484\n",
      "2022-08    1050.669342\n",
      "2022-09     996.240410\n",
      "2022-10     905.132908\n",
      "2022-11     772.926515\n",
      "Name: duration, dtype: float64\n",
      "2022-06 :  month\n",
      "2021-12    1152.612794\n",
      "2022-01    1475.711307\n",
      "2022-02     940.787409\n",
      "2022-03     900.660970\n",
      "2022-04    1046.978154\n",
      "2022-05    1181.578949\n",
      "2022-06    1258.314069\n",
      "2022-07    1268.495484\n",
      "2022-08    1050.669342\n",
      "2022-09     996.240410\n",
      "2022-10     905.132908\n",
      "2022-11     772.926515\n",
      "Name: duration, dtype: float64\n",
      "2022-07 :  month\n",
      "2021-12    1152.612794\n",
      "2022-01    1475.711307\n",
      "2022-02     940.787409\n",
      "2022-03     900.660970\n",
      "2022-04    1046.978154\n",
      "2022-05    1181.578949\n",
      "2022-06    1258.314069\n",
      "2022-07    1268.495484\n",
      "2022-08    1050.669342\n",
      "2022-09     996.240410\n",
      "2022-10     905.132908\n",
      "2022-11     772.926515\n",
      "Name: duration, dtype: float64\n",
      "2022-08 :  month\n",
      "2021-12    1152.612794\n",
      "2022-01    1475.711307\n",
      "2022-02     940.787409\n",
      "2022-03     900.660970\n",
      "2022-04    1046.978154\n",
      "2022-05    1181.578949\n",
      "2022-06    1258.314069\n",
      "2022-07    1268.495484\n",
      "2022-08    1050.669342\n",
      "2022-09     996.240410\n",
      "2022-10     905.132908\n",
      "2022-11     772.926515\n",
      "Name: duration, dtype: float64\n",
      "2022-09 :  month\n",
      "2021-12    1152.612794\n",
      "2022-01    1475.711307\n",
      "2022-02     940.787409\n",
      "2022-03     900.660970\n",
      "2022-04    1046.978154\n",
      "2022-05    1181.578949\n",
      "2022-06    1258.314069\n",
      "2022-07    1268.495484\n",
      "2022-08    1050.669342\n",
      "2022-09     996.240410\n",
      "2022-10     905.132908\n",
      "2022-11     772.926515\n",
      "Name: duration, dtype: float64\n",
      "2022-10 :  month\n",
      "2021-12    1152.612794\n",
      "2022-01    1475.711307\n",
      "2022-02     940.787409\n",
      "2022-03     900.660970\n",
      "2022-04    1046.978154\n",
      "2022-05    1181.578949\n",
      "2022-06    1258.314069\n",
      "2022-07    1268.495484\n",
      "2022-08    1050.669342\n",
      "2022-09     996.240410\n",
      "2022-10     905.132908\n",
      "2022-11     772.926515\n",
      "Name: duration, dtype: float64\n",
      "2022-11 :  month\n",
      "2021-12    1152.612794\n",
      "2022-01    1475.711307\n",
      "2022-02     940.787409\n",
      "2022-03     900.660970\n",
      "2022-04    1046.978154\n",
      "2022-05    1181.578949\n",
      "2022-06    1258.314069\n",
      "2022-07    1268.495484\n",
      "2022-08    1050.669342\n",
      "2022-09     996.240410\n",
      "2022-10     905.132908\n",
      "2022-11     772.926515\n",
      "Name: duration, dtype: float64\n",
      "col 1: Month\n",
      "col 2: Ride Duration (seconds)\n"
     ]
    }
   ],
   "source": [
    "print(\"Average Ride Duration Per Month\")\n",
    "for i,val in enumerate(avg_duration_per_month.index):\n",
    "    print(val,  \": \" , avg_duration_per_month)\n",
    "    \n",
    "print(\"col 1: Month\")\n",
    "print(\"col 2: Ride Duration (seconds)\")"
   ]
  },
  {
   "cell_type": "code",
   "execution_count": 19,
   "id": "70197694",
   "metadata": {
    "scrolled": false
   },
   "outputs": [
    {
     "data": {
      "image/png": "[encoded data removed]",
      "text/plain": [
       "<Figure size 432x288 with 1 Axes>"
      ]
     },
     "metadata": {
      "needs_background": "light"
     },
     "output_type": "display_data"
    }
   ],
   "source": [
    "# plot average ride duration per month\n",
    "plt.plot(avg_duration_per_month.index, avg_duration_per_month, marker='o')\n",
    "plt.title('Average Ride Duration Per Month')\n",
    "plt.ylabel('Ride Duration (seconds)')\n",
    "plt.xlabel('Month')\n",
    "plt.xticks(rotation=90)\n",
    "plt.grid()\n",
    "plt.show()\n"
   ]
  },
  {
   "cell_type": "code",
   "execution_count": 20,
   "id": "373e80b2",
   "metadata": {},
   "outputs": [],
   "source": [
    "# calculate the distance between latitudes and longitudes\n",
    "def haversine(lat1, lon1, lat2, lon2):\n",
    "    R = 6371  # Earth's radius in km\n",
    "    lat1_rad = np.radians(lat1)\n",
    "    lon1_rad = np.radians(lon1)\n",
    "    lat2_rad = np.radians(lat2)\n",
    "    lon2_rad = np.radians(lon2)\n",
    "\n",
    "    dlat = lat2_rad - lat1_rad\n",
    "    dlon = lon2_rad - lon1_rad\n",
    "\n",
    "    a = np.sin(dlat / 2)**2 + np.cos(lat1_rad) * np.cos(lat2_rad) * np.sin(dlon / 2)**2\n",
    "    c = 2 * np.arctan2(np.sqrt(a), np.sqrt(1 - a))\n",
    "\n",
    "    return R * c"
   ]
  },
  {
   "cell_type": "code",
   "execution_count": 21,
   "id": "5c59f1df",
   "metadata": {},
   "outputs": [],
   "source": [
    "\n",
    "df['distance'] = haversine(df['start_lat'], df['start_lng'], df['end_lat'], df['end_lng'])"
   ]
  },
  {
   "cell_type": "code",
   "execution_count": 22,
   "id": "029b23ef",
   "metadata": {},
   "outputs": [],
   "source": [
    "\n",
    "avg_distance_per_month = df.groupby('month')['distance'].mean()"
   ]
  },
  {
   "cell_type": "code",
   "execution_count": 35,
   "id": "858d6ae3",
   "metadata": {},
   "outputs": [
    {
     "name": "stdout",
     "output_type": "stream",
     "text": [
      "average distance per month\n",
      "2021-12 :  month\n",
      "2021-12    1.121491\n",
      "2022-01    1.082722\n",
      "2022-02    1.094866\n",
      "2022-03    1.119538\n",
      "2022-04    1.152811\n",
      "2022-05    1.164502\n",
      "2022-06    1.174724\n",
      "2022-07    1.176434\n",
      "2022-08    1.172571\n",
      "2022-09    1.189690\n",
      "2022-10    1.173864\n",
      "2022-11    1.160138\n",
      "Name: distance, dtype: float64\n",
      "2022-01 :  month\n",
      "2021-12    1.121491\n",
      "2022-01    1.082722\n",
      "2022-02    1.094866\n",
      "2022-03    1.119538\n",
      "2022-04    1.152811\n",
      "2022-05    1.164502\n",
      "2022-06    1.174724\n",
      "2022-07    1.176434\n",
      "2022-08    1.172571\n",
      "2022-09    1.189690\n",
      "2022-10    1.173864\n",
      "2022-11    1.160138\n",
      "Name: distance, dtype: float64\n",
      "2022-02 :  month\n",
      "2021-12    1.121491\n",
      "2022-01    1.082722\n",
      "2022-02    1.094866\n",
      "2022-03    1.119538\n",
      "2022-04    1.152811\n",
      "2022-05    1.164502\n",
      "2022-06    1.174724\n",
      "2022-07    1.176434\n",
      "2022-08    1.172571\n",
      "2022-09    1.189690\n",
      "2022-10    1.173864\n",
      "2022-11    1.160138\n",
      "Name: distance, dtype: float64\n",
      "2022-03 :  month\n",
      "2021-12    1.121491\n",
      "2022-01    1.082722\n",
      "2022-02    1.094866\n",
      "2022-03    1.119538\n",
      "2022-04    1.152811\n",
      "2022-05    1.164502\n",
      "2022-06    1.174724\n",
      "2022-07    1.176434\n",
      "2022-08    1.172571\n",
      "2022-09    1.189690\n",
      "2022-10    1.173864\n",
      "2022-11    1.160138\n",
      "Name: distance, dtype: float64\n",
      "2022-04 :  month\n",
      "2021-12    1.121491\n",
      "2022-01    1.082722\n",
      "2022-02    1.094866\n",
      "2022-03    1.119538\n",
      "2022-04    1.152811\n",
      "2022-05    1.164502\n",
      "2022-06    1.174724\n",
      "2022-07    1.176434\n",
      "2022-08    1.172571\n",
      "2022-09    1.189690\n",
      "2022-10    1.173864\n",
      "2022-11    1.160138\n",
      "Name: distance, dtype: float64\n",
      "2022-05 :  month\n",
      "2021-12    1.121491\n",
      "2022-01    1.082722\n",
      "2022-02    1.094866\n",
      "2022-03    1.119538\n",
      "2022-04    1.152811\n",
      "2022-05    1.164502\n",
      "2022-06    1.174724\n",
      "2022-07    1.176434\n",
      "2022-08    1.172571\n",
      "2022-09    1.189690\n",
      "2022-10    1.173864\n",
      "2022-11    1.160138\n",
      "Name: distance, dtype: float64\n",
      "2022-06 :  month\n",
      "2021-12    1.121491\n",
      "2022-01    1.082722\n",
      "2022-02    1.094866\n",
      "2022-03    1.119538\n",
      "2022-04    1.152811\n",
      "2022-05    1.164502\n",
      "2022-06    1.174724\n",
      "2022-07    1.176434\n",
      "2022-08    1.172571\n",
      "2022-09    1.189690\n",
      "2022-10    1.173864\n",
      "2022-11    1.160138\n",
      "Name: distance, dtype: float64\n",
      "2022-07 :  month\n",
      "2021-12    1.121491\n",
      "2022-01    1.082722\n",
      "2022-02    1.094866\n",
      "2022-03    1.119538\n",
      "2022-04    1.152811\n",
      "2022-05    1.164502\n",
      "2022-06    1.174724\n",
      "2022-07    1.176434\n",
      "2022-08    1.172571\n",
      "2022-09    1.189690\n",
      "2022-10    1.173864\n",
      "2022-11    1.160138\n",
      "Name: distance, dtype: float64\n",
      "2022-08 :  month\n",
      "2021-12    1.121491\n",
      "2022-01    1.082722\n",
      "2022-02    1.094866\n",
      "2022-03    1.119538\n",
      "2022-04    1.152811\n",
      "2022-05    1.164502\n",
      "2022-06    1.174724\n",
      "2022-07    1.176434\n",
      "2022-08    1.172571\n",
      "2022-09    1.189690\n",
      "2022-10    1.173864\n",
      "2022-11    1.160138\n",
      "Name: distance, dtype: float64\n",
      "2022-09 :  month\n",
      "2021-12    1.121491\n",
      "2022-01    1.082722\n",
      "2022-02    1.094866\n",
      "2022-03    1.119538\n",
      "2022-04    1.152811\n",
      "2022-05    1.164502\n",
      "2022-06    1.174724\n",
      "2022-07    1.176434\n",
      "2022-08    1.172571\n",
      "2022-09    1.189690\n",
      "2022-10    1.173864\n",
      "2022-11    1.160138\n",
      "Name: distance, dtype: float64\n",
      "2022-10 :  month\n",
      "2021-12    1.121491\n",
      "2022-01    1.082722\n",
      "2022-02    1.094866\n",
      "2022-03    1.119538\n",
      "2022-04    1.152811\n",
      "2022-05    1.164502\n",
      "2022-06    1.174724\n",
      "2022-07    1.176434\n",
      "2022-08    1.172571\n",
      "2022-09    1.189690\n",
      "2022-10    1.173864\n",
      "2022-11    1.160138\n",
      "Name: distance, dtype: float64\n",
      "2022-11 :  month\n",
      "2021-12    1.121491\n",
      "2022-01    1.082722\n",
      "2022-02    1.094866\n",
      "2022-03    1.119538\n",
      "2022-04    1.152811\n",
      "2022-05    1.164502\n",
      "2022-06    1.174724\n",
      "2022-07    1.176434\n",
      "2022-08    1.172571\n",
      "2022-09    1.189690\n",
      "2022-10    1.173864\n",
      "2022-11    1.160138\n",
      "Name: distance, dtype: float64\n",
      "col 1: Month\n",
      "col 2: Ride Distance (km)\n"
     ]
    }
   ],
   "source": [
    "print(\"average distance per month\")\n",
    "for i,val in enumerate(avg_distance_per_month.index):\n",
    "    print(val,  \": \" , avg_distance_per_month)\n",
    "    \n",
    "print(\"col 1: Month\")\n",
    "print(\"col 2: Ride Distance (km)\")"
   ]
  },
  {
   "cell_type": "markdown",
   "id": "f96d5164",
   "metadata": {},
   "source": [
    "Weird. Duration decreases but distance increased! Possible data errors."
   ]
  },
  {
   "cell_type": "code",
   "execution_count": 36,
   "id": "142819bc",
   "metadata": {},
   "outputs": [
    {
     "data": {
      "text/plain": [
       "classic_bike     623653\n",
       "electric_bike    263303\n",
       "docked_bike        7965\n",
       "Name: rideable_type, dtype: int64"
      ]
     },
     "execution_count": 36,
     "metadata": {},
     "output_type": "execute_result"
    }
   ],
   "source": [
    "df['rideable_type'].value_counts()"
   ]
  },
  {
   "cell_type": "code",
   "execution_count": 25,
   "id": "09a5b7b5",
   "metadata": {},
   "outputs": [
    {
     "data": {
      "image/png": "[encoded data removed]",
      "text/plain": [
       "<Figure size 432x288 with 1 Axes>"
      ]
     },
     "metadata": {
      "needs_background": "light"
     },
     "output_type": "display_data"
    }
   ],
   "source": [
    "# create treemaps for rideable types\n",
    "rideable_type_counts = df['rideable_type'].value_counts()\n",
    "squarify.plot(sizes=rideable_type_counts, label=rideable_type_counts.index, alpha=.8)\n",
    "plt.title('Rideable Types Distribution')\n",
    "plt.axis('off')\n",
    "plt.show()\n"
   ]
  },
  {
   "cell_type": "markdown",
   "id": "ac2dcb30",
   "metadata": {},
   "source": [
    "Month analysis"
   ]
  },
  {
   "cell_type": "code",
   "execution_count": null,
   "id": "1a5acc53",
   "metadata": {},
   "outputs": [],
   "source": [
    "\n",
    "months = [\n",
    "    '202112', '202201', '202202', '202203',\n",
    "    '202204', '202205', '202206', '202207',\n",
    "    '202208', '202209', '202210', '202211'\n",
    "]\n",
    "\n",
    "dfs = []\n",
    "\n",
    "for month in months:\n",
    "    df = pd.read_csv(f'data/JC-{month}-citibike-tripdata.csv')\n",
    "    dfs.append(df)"
   ]
  },
  {
   "cell_type": "code",
   "execution_count": null,
   "id": "5d8c6db1",
   "metadata": {},
   "outputs": [],
   "source": [
    "\n",
    "df = pd.concat(dfs)\n",
    "\n",
    "\n",
    "df = df.reset_index(drop=True)\n",
    "\n",
    "# analyzing differences in rush hour vs off hour bike rides\n",
    "rush_hour_morning = df.loc[(pd.to_datetime(df['started_at']).dt.hour >= 7) & (pd.to_datetime(df['started_at']).dt.hour <= 9)]\n",
    "rush_hour_evening = df.loc[(pd.to_datetime(df['started_at']).dt.hour >= 16) & (pd.to_datetime(df['started_at']).dt.hour <= 19)]\n",
    "rush_hour_df = pd.concat([rush_hour_morning, rush_hour_evening])\n",
    "\n",
    "off_hour_df = df.loc[~df.index.isin(rush_hour_df.index)]\n",
    "\n",
    "rush_hour_counts = rush_hour_df['start_station_name'].value_counts()\n",
    "off_hour_counts = off_hour_df['start_station_name'].value_counts()"
   ]
  },
  {
   "cell_type": "code",
   "execution_count": 28,
   "id": "f1887a7a",
   "metadata": {},
   "outputs": [
    {
     "data": {
      "image/png": "[encoded data removed]",
      "text/plain": [
       "<Figure size 720x720 with 1 Axes>"
      ]
     },
     "metadata": {
      "needs_background": "light"
     },
     "output_type": "display_data"
    },
    {
     "data": {
      "image/png": "[encoded data removed]",
      "text/plain": [
       "<Figure size 720x720 with 1 Axes>"
      ]
     },
     "metadata": {
      "needs_background": "light"
     },
     "output_type": "display_data"
    }
   ],
   "source": [
    "# computing and visualizing the rush hour and off hour traffic for each station\n",
    "plt.figure(figsize=(10,10))\n",
    "squarify.plot(rush_hour_counts[:5], label=rush_hour_counts.index[:5], text_kwargs={'fontsize':10}, alpha=.5)\n",
    "plt.title('Top 5 Stations where Rush Hour Rides Started')\n",
    "plt.show()\n",
    "\n",
    "plt.figure(figsize=(10,10))\n",
    "squarify.plot(off_hour_counts[:5], label=off_hour_counts.index[:5], text_kwargs={'fontsize':10}, alpha=.5)\n",
    "plt.title('Top 5 Stations where Off Hour Rides Started')\n",
    "plt.show()"
   ]
  }
 ],
 "metadata": {
  "kernelspec": {
   "display_name": "Python 3 (ipykernel)",
   "language": "python",
   "name": "python3"
  },
  "language_info": {
   "codemirror_mode": {
    "name": "ipython",
    "version": 3
   },
   "file_extension": ".py",
   "mimetype": "text/x-python",
   "name": "python",
   "nbconvert_exporter": "python",
   "pygments_lexer": "ipython3",
   "version": "3.8.13"
  }
 },
 "nbformat": 4,
 "nbformat_minor": 5
}
