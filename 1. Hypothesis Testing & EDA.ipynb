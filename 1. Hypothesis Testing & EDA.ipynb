{
 "cells": [
  {
   "cell_type": "markdown",
   "id": "04b6840b",
   "metadata": {},
   "source": [
    "# EDA & Hypotheis testing"
   ]
  },
  {
   "cell_type": "code",
   "execution_count": 2,
   "id": "a5b5ff13",
   "metadata": {},
   "outputs": [],
   "source": [
    "import numpy as np\n",
    "import pandas as pd\n",
    "import dask.dataframe as dd\n",
    "import dask.array as da\n",
    "from dask.diagnostics import ProgressBar\n",
    "import matplotlib.pyplot as plt\n",
    "import seaborn as sns\n",
    "import datetime\n",
    "import scipy.stats as stats"
   ]
  },
  {
   "cell_type": "markdown",
   "id": "f77b685d",
   "metadata": {},
   "source": [
    "Set seaborn style and register progress bar"
   ]
  },
  {
   "cell_type": "code",
   "execution_count": 3,
   "id": "824deb30",
   "metadata": {},
   "outputs": [],
   "source": [
    "# set up the environment\n",
    "sns.set(style=\"darkgrid\")\n",
    "ProgressBar().register()"
   ]
  },
  {
   "cell_type": "markdown",
   "id": "8a9af07f",
   "metadata": {},
   "source": [
    "Define constants such as SEED, SAMPLE_RATE, and FILE_PATHS for data files"
   ]
  },
  {
   "cell_type": "code",
   "execution_count": 4,
   "id": "3bf4b8f1",
   "metadata": {},
   "outputs": [],
   "source": [
    "# Constants\n",
    "SEED = 1\n",
    "SAMPLE_RATE = 0.1\n",
    "FILE_PATHS = [\n",
    "    f\"data/JC-2022{i:02d}-citibike-tripdata.csv\" for i in range(1, 12)\n",
    "] + [\"data/JC-202112-citibike-tripdata.csv\"]"
   ]
  },
  {
   "cell_type": "markdown",
   "id": "64824ba0",
   "metadata": {},
   "source": [
    "Define functions for preprocessing and loading data"
   ]
  },
  {
   "cell_type": "code",
   "execution_count": 5,
   "id": "b4475e54",
   "metadata": {},
   "outputs": [],
   "source": [
    "# Function definitions\n",
    "def preprocess_data(data):\n",
    "    data = data.copy()\n",
    "    data[\"started_at\"] = dd.to_datetime(data[\"started_at\"])\n",
    "    data[\"ended_at\"] = dd.to_datetime(data[\"ended_at\"])\n",
    "    \n",
    "    data[\"started_at_year\"] = data[\"started_at\"].dt.year\n",
    "    data[\"started_at_month\"] = data[\"started_at\"].dt.month\n",
    "    data[\"started_at_day\"] = data[\"started_at\"].dt.day\n",
    "    data[\"started_at_hour\"] = data[\"started_at\"].dt.hour\n",
    "    data[\"started_at_minutes\"] = data[\"started_at\"].dt.minute\n",
    "    data[\"started_at_seconds\"] = data[\"started_at\"].dt.second\n",
    "    data[\"date_of_week\"] = data[\"started_at\"].dt.weekday\n",
    "    \n",
    "    return data\n",
    "\n",
    "def load_and_preprocess_data(file_paths, sample_rate):\n",
    "    data_arr = [\n",
    "        dd.read_csv(file_path).sample(frac=sample_rate, random_state=SEED)\n",
    "        for file_path in file_paths\n",
    "    ]\n",
    "    data = dd.concat(data_arr)\n",
    "    data = preprocess_data(data)\n",
    "    \n",
    "    return data\n"
   ]
  },
  {
   "cell_type": "markdown",
   "id": "7a31c18a",
   "metadata": {},
   "source": [
    "Load and preprocess data"
   ]
  },
  {
   "cell_type": "code",
   "execution_count": 6,
   "id": "2d93f891",
   "metadata": {},
   "outputs": [
    {
     "name": "stdout",
     "output_type": "stream",
     "text": [
      "[########################################] | 100% Completed |  3.3s\n"
     ]
    }
   ],
   "source": [
    "data = load_and_preprocess_data(FILE_PATHS, SAMPLE_RATE)\n",
    "data_length = data.count().compute()\n",
    "\n",
    "#print(data_length)\n",
    "#data.head()"
   ]
  },
  {
   "cell_type": "markdown",
   "id": "110b8265",
   "metadata": {},
   "source": [
    "Split data into weekday_data and weekend_data"
   ]
  },
  {
   "cell_type": "code",
   "execution_count": 7,
   "id": "c96d1c7a",
   "metadata": {},
   "outputs": [
    {
     "name": "stdout",
     "output_type": "stream",
     "text": [
      "[########################################] | 100% Completed |  3.1s\n",
      "[########################################] | 100% Completed |  3.2s\n"
     ]
    }
   ],
   "source": [
    "weekday_data = data[data[\"date_of_week\"] < 5].persist()\n",
    "weekend_data = data[data[\"date_of_week\"] >= 5].persist()"
   ]
  },
  {
   "cell_type": "markdown",
   "id": "b2da90f0",
   "metadata": {},
   "source": [
    "Save weekday_data and weekend_data to separate CSV files, to reduce memory need."
   ]
  },
  {
   "cell_type": "code",
   "execution_count": 8,
   "id": "2dd9adcc",
   "metadata": {
    "scrolled": true
   },
   "outputs": [
    {
     "name": "stdout",
     "output_type": "stream",
     "text": [
      "[########################################] | 100% Completed |  1.2s\n",
      "[########################################] | 100% Completed |  0.5s\n",
      "[########################################] | 100% Completed |  0.1s\n"
     ]
    },
    {
     "data": {
      "text/html": [
       "<div>\n",
       "<style scoped>\n",
       "    .dataframe tbody tr th:only-of-type {\n",
       "        vertical-align: middle;\n",
       "    }\n",
       "\n",
       "    .dataframe tbody tr th {\n",
       "        vertical-align: top;\n",
       "    }\n",
       "\n",
       "    .dataframe thead th {\n",
       "        text-align: right;\n",
       "    }\n",
       "</style>\n",
       "<table border=\"1\" class=\"dataframe\">\n",
       "  <thead>\n",
       "    <tr style=\"text-align: right;\">\n",
       "      <th></th>\n",
       "      <th>ride_id</th>\n",
       "      <th>rideable_type</th>\n",
       "      <th>started_at</th>\n",
       "      <th>ended_at</th>\n",
       "      <th>start_station_name</th>\n",
       "      <th>start_station_id</th>\n",
       "      <th>end_station_name</th>\n",
       "      <th>end_station_id</th>\n",
       "      <th>start_lat</th>\n",
       "      <th>start_lng</th>\n",
       "      <th>end_lat</th>\n",
       "      <th>end_lng</th>\n",
       "      <th>member_casual</th>\n",
       "      <th>started_at_year</th>\n",
       "      <th>started_at_month</th>\n",
       "      <th>started_at_day</th>\n",
       "      <th>started_at_hour</th>\n",
       "      <th>started_at_minutes</th>\n",
       "      <th>started_at_seconds</th>\n",
       "      <th>date_of_week</th>\n",
       "    </tr>\n",
       "  </thead>\n",
       "  <tbody>\n",
       "    <tr>\n",
       "      <th>4686</th>\n",
       "      <td>6004D49CBE416136</td>\n",
       "      <td>classic_bike</td>\n",
       "      <td>2022-01-19 22:36:16</td>\n",
       "      <td>2022-01-19 22:45:15</td>\n",
       "      <td>Hoboken Terminal - River St &amp; Hudson Pl</td>\n",
       "      <td>HB102</td>\n",
       "      <td>Bloomfield St &amp; 15 St</td>\n",
       "      <td>HB203</td>\n",
       "      <td>40.736068</td>\n",
       "      <td>-74.029127</td>\n",
       "      <td>40.754530</td>\n",
       "      <td>-74.026580</td>\n",
       "      <td>member</td>\n",
       "      <td>2022</td>\n",
       "      <td>1</td>\n",
       "      <td>19</td>\n",
       "      <td>22</td>\n",
       "      <td>36</td>\n",
       "      <td>16</td>\n",
       "      <td>2</td>\n",
       "    </tr>\n",
       "    <tr>\n",
       "      <th>25684</th>\n",
       "      <td>B2E87D0BFC6AB6EF</td>\n",
       "      <td>electric_bike</td>\n",
       "      <td>2022-01-06 19:35:07</td>\n",
       "      <td>2022-01-06 19:36:56</td>\n",
       "      <td>Newark Ave</td>\n",
       "      <td>JC032</td>\n",
       "      <td>Van Vorst Park</td>\n",
       "      <td>JC035</td>\n",
       "      <td>40.721525</td>\n",
       "      <td>-74.046305</td>\n",
       "      <td>40.718489</td>\n",
       "      <td>-74.047727</td>\n",
       "      <td>member</td>\n",
       "      <td>2022</td>\n",
       "      <td>1</td>\n",
       "      <td>6</td>\n",
       "      <td>19</td>\n",
       "      <td>35</td>\n",
       "      <td>7</td>\n",
       "      <td>3</td>\n",
       "    </tr>\n",
       "    <tr>\n",
       "      <th>26492</th>\n",
       "      <td>9AD592C69BE442F2</td>\n",
       "      <td>classic_bike</td>\n",
       "      <td>2022-01-27 08:07:03</td>\n",
       "      <td>2022-01-27 08:16:09</td>\n",
       "      <td>Hamilton Park</td>\n",
       "      <td>JC009</td>\n",
       "      <td>Marin Light Rail</td>\n",
       "      <td>JC013</td>\n",
       "      <td>40.727596</td>\n",
       "      <td>-74.044247</td>\n",
       "      <td>40.714584</td>\n",
       "      <td>-74.042817</td>\n",
       "      <td>member</td>\n",
       "      <td>2022</td>\n",
       "      <td>1</td>\n",
       "      <td>27</td>\n",
       "      <td>8</td>\n",
       "      <td>7</td>\n",
       "      <td>3</td>\n",
       "      <td>3</td>\n",
       "    </tr>\n",
       "    <tr>\n",
       "      <th>14435</th>\n",
       "      <td>E0C4E934257F380E</td>\n",
       "      <td>classic_bike</td>\n",
       "      <td>2022-01-25 07:28:03</td>\n",
       "      <td>2022-01-25 07:31:33</td>\n",
       "      <td>Monmouth and 6th</td>\n",
       "      <td>JC075</td>\n",
       "      <td>Grove St PATH</td>\n",
       "      <td>JC005</td>\n",
       "      <td>40.725685</td>\n",
       "      <td>-74.048790</td>\n",
       "      <td>40.719586</td>\n",
       "      <td>-74.043117</td>\n",
       "      <td>member</td>\n",
       "      <td>2022</td>\n",
       "      <td>1</td>\n",
       "      <td>25</td>\n",
       "      <td>7</td>\n",
       "      <td>28</td>\n",
       "      <td>3</td>\n",
       "      <td>1</td>\n",
       "    </tr>\n",
       "    <tr>\n",
       "      <th>26148</th>\n",
       "      <td>706261E9FF9C4A95</td>\n",
       "      <td>classic_bike</td>\n",
       "      <td>2022-01-17 14:57:13</td>\n",
       "      <td>2022-01-17 15:12:29</td>\n",
       "      <td>Madison St &amp; 10 St</td>\n",
       "      <td>HB503</td>\n",
       "      <td>Willow Ave &amp; 12 St</td>\n",
       "      <td>HB505</td>\n",
       "      <td>40.749943</td>\n",
       "      <td>-74.035865</td>\n",
       "      <td>40.751867</td>\n",
       "      <td>-74.030377</td>\n",
       "      <td>member</td>\n",
       "      <td>2022</td>\n",
       "      <td>1</td>\n",
       "      <td>17</td>\n",
       "      <td>14</td>\n",
       "      <td>57</td>\n",
       "      <td>13</td>\n",
       "      <td>0</td>\n",
       "    </tr>\n",
       "  </tbody>\n",
       "</table>\n",
       "</div>"
      ],
      "text/plain": [
       "                ride_id  rideable_type          started_at  \\\n",
       "4686   6004D49CBE416136   classic_bike 2022-01-19 22:36:16   \n",
       "25684  B2E87D0BFC6AB6EF  electric_bike 2022-01-06 19:35:07   \n",
       "26492  9AD592C69BE442F2   classic_bike 2022-01-27 08:07:03   \n",
       "14435  E0C4E934257F380E   classic_bike 2022-01-25 07:28:03   \n",
       "26148  706261E9FF9C4A95   classic_bike 2022-01-17 14:57:13   \n",
       "\n",
       "                 ended_at                       start_station_name  \\\n",
       "4686  2022-01-19 22:45:15  Hoboken Terminal - River St & Hudson Pl   \n",
       "25684 2022-01-06 19:36:56                               Newark Ave   \n",
       "26492 2022-01-27 08:16:09                            Hamilton Park   \n",
       "14435 2022-01-25 07:31:33                         Monmouth and 6th   \n",
       "26148 2022-01-17 15:12:29                       Madison St & 10 St   \n",
       "\n",
       "      start_station_id       end_station_name end_station_id  start_lat  \\\n",
       "4686             HB102  Bloomfield St & 15 St          HB203  40.736068   \n",
       "25684            JC032         Van Vorst Park          JC035  40.721525   \n",
       "26492            JC009       Marin Light Rail          JC013  40.727596   \n",
       "14435            JC075          Grove St PATH          JC005  40.725685   \n",
       "26148            HB503     Willow Ave & 12 St          HB505  40.749943   \n",
       "\n",
       "       start_lng    end_lat    end_lng member_casual  started_at_year  \\\n",
       "4686  -74.029127  40.754530 -74.026580        member             2022   \n",
       "25684 -74.046305  40.718489 -74.047727        member             2022   \n",
       "26492 -74.044247  40.714584 -74.042817        member             2022   \n",
       "14435 -74.048790  40.719586 -74.043117        member             2022   \n",
       "26148 -74.035865  40.751867 -74.030377        member             2022   \n",
       "\n",
       "       started_at_month  started_at_day  started_at_hour  started_at_minutes  \\\n",
       "4686                  1              19               22                  36   \n",
       "25684                 1               6               19                  35   \n",
       "26492                 1              27                8                   7   \n",
       "14435                 1              25                7                  28   \n",
       "26148                 1              17               14                  57   \n",
       "\n",
       "       started_at_seconds  date_of_week  \n",
       "4686                   16             2  \n",
       "25684                   7             3  \n",
       "26492                   3             3  \n",
       "14435                   3             1  \n",
       "26148                  13             0  "
      ]
     },
     "execution_count": 8,
     "metadata": {},
     "output_type": "execute_result"
    }
   ],
   "source": [
    "weekday_data.to_csv(\"weekday_data.csv\", index=False)\n",
    "weekend_data.to_csv(\"weekend_data.csv\", index=False)\n",
    "\n",
    "weekday_data.head()"
   ]
  },
  {
   "cell_type": "markdown",
   "id": "92032dcd",
   "metadata": {},
   "source": [
    "Calculate value counts for weekday_data and weekend_data, needed for later"
   ]
  },
  {
   "cell_type": "code",
   "execution_count": 9,
   "id": "37bb1068",
   "metadata": {
    "scrolled": false
   },
   "outputs": [
    {
     "name": "stdout",
     "output_type": "stream",
     "text": [
      "[########################################] | 100% Completed |  0.1s\n",
      "[########################################] | 100% Completed |  0.1s\n",
      "Weekday counts: 2    13407\n",
      "4    13341\n",
      "3    12967\n",
      "1    12579\n",
      "0    11600\n",
      "Name: date_of_week, dtype: int64\n",
      "Weekend counts: 5    13472\n",
      "6    12126\n",
      "Name: date_of_week, dtype: int64\n"
     ]
    }
   ],
   "source": [
    "weekday_counts = weekday_data[\"date_of_week\"].value_counts().compute()\n",
    "weekend_counts = weekend_data[\"date_of_week\"].value_counts().compute()\n",
    "print(\"Weekday counts:\", weekday_counts)\n",
    "print(\"Weekend counts:\", weekend_counts)"
   ]
  },
  {
   "cell_type": "markdown",
   "id": "10871319",
   "metadata": {},
   "source": [
    "Print and visualize the number of rides for each weekday\n",
    "This plot helps us to understand the distribution of rides during the weekdays"
   ]
  },
  {
   "cell_type": "code",
   "execution_count": 10,
   "id": "080b7437",
   "metadata": {},
   "outputs": [
    {
     "name": "stdout",
     "output_type": "stream",
     "text": [
      "Number of Rides for Each Weekday\n",
      "2 :  13407\n",
      "4 :  13341\n",
      "3 :  12967\n",
      "1 :  12579\n",
      "0 :  11600\n",
      "col 1: Day of Week\n",
      "cold 2: Number of Rides\n"
     ]
    }
   ],
   "source": [
    "print(\"Number of Rides for Each Weekday\")\n",
    "for i,val in enumerate(weekday_counts.index):\n",
    "    print(val,  \": \" , weekday_counts.values[i])\n",
    "    \n",
    "print(\"col 1: Day of Week\")\n",
    "print(\"cold 2: Number of Rides\")"
   ]
  },
  {
   "cell_type": "code",
   "execution_count": 11,
   "id": "cd6895c5",
   "metadata": {
    "scrolled": false
   },
   "outputs": [
    {
     "data": {
      "image/png": "[encoded data removed]",
      "text/plain": [
       "<Figure size 432x288 with 1 Axes>"
      ]
     },
     "metadata": {},
     "output_type": "display_data"
    }
   ],
   "source": [
    "plt.bar(weekday_counts.index, weekday_counts.values)\n",
    "plt.xlabel(\"Day of Week\")\n",
    "plt.ylabel(\"Number of Rides\")\n",
    "plt.title(\"Number of Rides for Each Weekday\")\n",
    "plt.show()"
   ]
  },
  {
   "cell_type": "code",
   "execution_count": 12,
   "id": "be8d4c62",
   "metadata": {},
   "outputs": [
    {
     "name": "stdout",
     "output_type": "stream",
     "text": [
      "Number of Rides for Each Weekend day\n",
      "5 :  13472\n",
      "6 :  12126\n",
      "col 1: Day of Week\n",
      "cold 2: Number of Rides\n"
     ]
    }
   ],
   "source": [
    "print(\"Number of Rides for Each Weekend day\")\n",
    "for i,val in enumerate(weekend_counts.index):\n",
    "    print(val,  \": \" , weekend_counts.values[i])\n",
    "    \n",
    "print(\"col 1: Day of Week\")\n",
    "print(\"cold 2: Number of Rides\")"
   ]
  },
  {
   "cell_type": "code",
   "execution_count": 13,
   "id": "d980cf35",
   "metadata": {
    "scrolled": true
   },
   "outputs": [
    {
     "data": {
      "image/png": "[encoded data removed]",
      "text/plain": [
       "<Figure size 432x288 with 1 Axes>"
      ]
     },
     "metadata": {},
     "output_type": "display_data"
    }
   ],
   "source": [
    "plt.bar(weekend_counts.index, weekend_counts.values)\n",
    "plt.xlabel(\"Day of Week\")\n",
    "plt.ylabel(\"Number of Rides\")\n",
    "plt.title(\"Number of Rides for Each Weekend Day\")\n",
    "plt.show()\n"
   ]
  },
  {
   "cell_type": "markdown",
   "id": "8aa017c6",
   "metadata": {},
   "source": [
    "The high p-value indicates that there is no significant difference between the number of rides on weekdays and weekends"
   ]
  },
  {
   "cell_type": "code",
   "execution_count": 14,
   "id": "367964c8",
   "metadata": {
    "scrolled": false
   },
   "outputs": [
    {
     "name": "stdout",
     "output_type": "stream",
     "text": [
      "T-test p-value (weekday_counts, weekend_counts) : Ttest_indResult(statistic=-0.030754475391772108, pvalue=0.9766552067089159)\n"
     ]
    }
   ],
   "source": [
    "p_value = stats.ttest_ind(weekday_counts, weekend_counts)\n",
    "print(\"T-test p-value (weekday_counts, weekend_counts) :\", p_value)"
   ]
  },
  {
   "cell_type": "markdown",
   "id": "1dd1554c",
   "metadata": {},
   "source": [
    "filter the data into two separate DataFrames: one for members and one for casual users. Also, we count the number of rides per day for both member and casual users."
   ]
  },
  {
   "cell_type": "code",
   "execution_count": 15,
   "id": "696b3363",
   "metadata": {
    "scrolled": true
   },
   "outputs": [
    {
     "name": "stdout",
     "output_type": "stream",
     "text": [
      "[########################################] | 100% Completed |  3.1s\n",
      "[########################################] | 100% Completed |  3.1s\n",
      "[########################################] | 100% Completed |  0.1s\n",
      "[########################################] | 100% Completed |  0.1s\n",
      "Member counts: 14    2167\n",
      "15    2112\n",
      "8     2080\n",
      "10    2048\n",
      "21    2023\n",
      "12    2011\n",
      "17    1986\n",
      "28    1984\n",
      "26    1976\n",
      "18    1961\n",
      "9     1957\n",
      "16    1952\n",
      "23    1942\n",
      "29    1934\n",
      "13    1923\n",
      "11    1916\n",
      "19    1888\n",
      "22    1877\n",
      "1     1863\n",
      "2     1863\n",
      "5     1846\n",
      "25    1844\n",
      "20    1822\n",
      "7     1809\n",
      "3     1805\n",
      "24    1770\n",
      "30    1762\n",
      "27    1746\n",
      "6     1734\n",
      "4     1722\n",
      "31    1122\n",
      "Name: started_at_day, dtype: int64\n",
      "Casual counts: 15    1181\n",
      "17    1172\n",
      "10    1149\n",
      "12    1127\n",
      "30    1124\n",
      "9     1102\n",
      "4     1095\n",
      "5     1093\n",
      "26    1079\n",
      "16    1048\n",
      "18    1042\n",
      "11    1023\n",
      "19    1018\n",
      "23    1013\n",
      "21    1013\n",
      "24    1009\n",
      "20    1006\n",
      "14    1006\n",
      "13     991\n",
      "22     989\n",
      "2      976\n",
      "8      975\n",
      "29     975\n",
      "25     947\n",
      "6      929\n",
      "27     906\n",
      "3      905\n",
      "28     893\n",
      "1      886\n",
      "7      785\n",
      "31     590\n",
      "Name: started_at_day, dtype: int64\n"
     ]
    }
   ],
   "source": [
    "members_data = data[data[\"member_casual\"] == \"member\"].persist()\n",
    "casuals_data = data[data[\"member_casual\"] == \"casual\"].persist()\n",
    "\n",
    "\n",
    "member_counts = members_data[\"started_at_day\"].value_counts().compute()\n",
    "casual_counts = casuals_data[\"started_at_day\"].value_counts().compute()\n",
    "\n",
    "print(\"Member counts:\", member_counts)\n",
    "print(\"Casual counts:\", casual_counts)"
   ]
  },
  {
   "cell_type": "code",
   "execution_count": 16,
   "id": "fcd93653",
   "metadata": {
    "scrolled": true
   },
   "outputs": [
    {
     "name": "stdout",
     "output_type": "stream",
     "text": [
      "Number of Rides for Members\n",
      "14 :  2167\n",
      "15 :  2112\n",
      "8 :  2080\n",
      "10 :  2048\n",
      "21 :  2023\n",
      "12 :  2011\n",
      "17 :  1986\n",
      "28 :  1984\n",
      "26 :  1976\n",
      "18 :  1961\n",
      "9 :  1957\n",
      "16 :  1952\n",
      "23 :  1942\n",
      "29 :  1934\n",
      "13 :  1923\n",
      "11 :  1916\n",
      "19 :  1888\n",
      "22 :  1877\n",
      "1 :  1863\n",
      "2 :  1863\n",
      "5 :  1846\n",
      "25 :  1844\n",
      "20 :  1822\n",
      "7 :  1809\n",
      "3 :  1805\n",
      "24 :  1770\n",
      "30 :  1762\n",
      "27 :  1746\n",
      "6 :  1734\n",
      "4 :  1722\n",
      "31 :  1122\n",
      "col 1: Day of Month\n",
      "cold 2: Number of Rides\n"
     ]
    }
   ],
   "source": [
    "print(\"Number of Rides for Members\")\n",
    "for i,val in enumerate(member_counts.index):\n",
    "    print(val,  \": \" , member_counts.values[i])\n",
    "    \n",
    "print(\"col 1: Day of Month\")\n",
    "print(\"cold 2: Number of Rides\")"
   ]
  },
  {
   "cell_type": "markdown",
   "id": "d9a263c7",
   "metadata": {},
   "source": [
    "The plot is useful to visualize the distribution of rides throughout the month for members."
   ]
  },
  {
   "cell_type": "code",
   "execution_count": 17,
   "id": "b1e67323",
   "metadata": {
    "scrolled": true
   },
   "outputs": [
    {
     "data": {
      "image/png": "[encoded data removed]",
      "text/plain": [
       "<Figure size 432x288 with 1 Axes>"
      ]
     },
     "metadata": {},
     "output_type": "display_data"
    }
   ],
   "source": [
    "plt.bar(member_counts.index, member_counts.values)\n",
    "plt.xlabel(\"Day of Month\")\n",
    "plt.ylabel(\"Number of Rides\")\n",
    "plt.title(\"Number of Rides for Members\")\n",
    "plt.show()"
   ]
  },
  {
   "cell_type": "code",
   "execution_count": 18,
   "id": "3162266e",
   "metadata": {},
   "outputs": [
    {
     "name": "stdout",
     "output_type": "stream",
     "text": [
      "Number of Rides for Casual Users\n",
      "15 :  [1181 1172 1149 1127 1124 1102 1095 1093 1079 1048 1042 1023 1018 1013\n",
      " 1013 1009 1006 1006  991  989  976  975  975  947  929  906  905  893\n",
      "  886  785  590]\n",
      "17 :  [1181 1172 1149 1127 1124 1102 1095 1093 1079 1048 1042 1023 1018 1013\n",
      " 1013 1009 1006 1006  991  989  976  975  975  947  929  906  905  893\n",
      "  886  785  590]\n",
      "10 :  [1181 1172 1149 1127 1124 1102 1095 1093 1079 1048 1042 1023 1018 1013\n",
      " 1013 1009 1006 1006  991  989  976  975  975  947  929  906  905  893\n",
      "  886  785  590]\n",
      "12 :  [1181 1172 1149 1127 1124 1102 1095 1093 1079 1048 1042 1023 1018 1013\n",
      " 1013 1009 1006 1006  991  989  976  975  975  947  929  906  905  893\n",
      "  886  785  590]\n",
      "30 :  [1181 1172 1149 1127 1124 1102 1095 1093 1079 1048 1042 1023 1018 1013\n",
      " 1013 1009 1006 1006  991  989  976  975  975  947  929  906  905  893\n",
      "  886  785  590]\n",
      "9 :  [1181 1172 1149 1127 1124 1102 1095 1093 1079 1048 1042 1023 1018 1013\n",
      " 1013 1009 1006 1006  991  989  976  975  975  947  929  906  905  893\n",
      "  886  785  590]\n",
      "4 :  [1181 1172 1149 1127 1124 1102 1095 1093 1079 1048 1042 1023 1018 1013\n",
      " 1013 1009 1006 1006  991  989  976  975  975  947  929  906  905  893\n",
      "  886  785  590]\n",
      "5 :  [1181 1172 1149 1127 1124 1102 1095 1093 1079 1048 1042 1023 1018 1013\n",
      " 1013 1009 1006 1006  991  989  976  975  975  947  929  906  905  893\n",
      "  886  785  590]\n",
      "26 :  [1181 1172 1149 1127 1124 1102 1095 1093 1079 1048 1042 1023 1018 1013\n",
      " 1013 1009 1006 1006  991  989  976  975  975  947  929  906  905  893\n",
      "  886  785  590]\n",
      "16 :  [1181 1172 1149 1127 1124 1102 1095 1093 1079 1048 1042 1023 1018 1013\n",
      " 1013 1009 1006 1006  991  989  976  975  975  947  929  906  905  893\n",
      "  886  785  590]\n",
      "18 :  [1181 1172 1149 1127 1124 1102 1095 1093 1079 1048 1042 1023 1018 1013\n",
      " 1013 1009 1006 1006  991  989  976  975  975  947  929  906  905  893\n",
      "  886  785  590]\n",
      "11 :  [1181 1172 1149 1127 1124 1102 1095 1093 1079 1048 1042 1023 1018 1013\n",
      " 1013 1009 1006 1006  991  989  976  975  975  947  929  906  905  893\n",
      "  886  785  590]\n",
      "19 :  [1181 1172 1149 1127 1124 1102 1095 1093 1079 1048 1042 1023 1018 1013\n",
      " 1013 1009 1006 1006  991  989  976  975  975  947  929  906  905  893\n",
      "  886  785  590]\n",
      "23 :  [1181 1172 1149 1127 1124 1102 1095 1093 1079 1048 1042 1023 1018 1013\n",
      " 1013 1009 1006 1006  991  989  976  975  975  947  929  906  905  893\n",
      "  886  785  590]\n",
      "21 :  [1181 1172 1149 1127 1124 1102 1095 1093 1079 1048 1042 1023 1018 1013\n",
      " 1013 1009 1006 1006  991  989  976  975  975  947  929  906  905  893\n",
      "  886  785  590]\n",
      "24 :  [1181 1172 1149 1127 1124 1102 1095 1093 1079 1048 1042 1023 1018 1013\n",
      " 1013 1009 1006 1006  991  989  976  975  975  947  929  906  905  893\n",
      "  886  785  590]\n",
      "20 :  [1181 1172 1149 1127 1124 1102 1095 1093 1079 1048 1042 1023 1018 1013\n",
      " 1013 1009 1006 1006  991  989  976  975  975  947  929  906  905  893\n",
      "  886  785  590]\n",
      "14 :  [1181 1172 1149 1127 1124 1102 1095 1093 1079 1048 1042 1023 1018 1013\n",
      " 1013 1009 1006 1006  991  989  976  975  975  947  929  906  905  893\n",
      "  886  785  590]\n",
      "13 :  [1181 1172 1149 1127 1124 1102 1095 1093 1079 1048 1042 1023 1018 1013\n",
      " 1013 1009 1006 1006  991  989  976  975  975  947  929  906  905  893\n",
      "  886  785  590]\n",
      "22 :  [1181 1172 1149 1127 1124 1102 1095 1093 1079 1048 1042 1023 1018 1013\n",
      " 1013 1009 1006 1006  991  989  976  975  975  947  929  906  905  893\n",
      "  886  785  590]\n",
      "2 :  [1181 1172 1149 1127 1124 1102 1095 1093 1079 1048 1042 1023 1018 1013\n",
      " 1013 1009 1006 1006  991  989  976  975  975  947  929  906  905  893\n",
      "  886  785  590]\n",
      "8 :  [1181 1172 1149 1127 1124 1102 1095 1093 1079 1048 1042 1023 1018 1013\n",
      " 1013 1009 1006 1006  991  989  976  975  975  947  929  906  905  893\n",
      "  886  785  590]\n",
      "29 :  [1181 1172 1149 1127 1124 1102 1095 1093 1079 1048 1042 1023 1018 1013\n",
      " 1013 1009 1006 1006  991  989  976  975  975  947  929  906  905  893\n",
      "  886  785  590]\n",
      "25 :  [1181 1172 1149 1127 1124 1102 1095 1093 1079 1048 1042 1023 1018 1013\n",
      " 1013 1009 1006 1006  991  989  976  975  975  947  929  906  905  893\n",
      "  886  785  590]\n",
      "6 :  [1181 1172 1149 1127 1124 1102 1095 1093 1079 1048 1042 1023 1018 1013\n",
      " 1013 1009 1006 1006  991  989  976  975  975  947  929  906  905  893\n",
      "  886  785  590]\n",
      "27 :  [1181 1172 1149 1127 1124 1102 1095 1093 1079 1048 1042 1023 1018 1013\n",
      " 1013 1009 1006 1006  991  989  976  975  975  947  929  906  905  893\n",
      "  886  785  590]\n",
      "3 :  [1181 1172 1149 1127 1124 1102 1095 1093 1079 1048 1042 1023 1018 1013\n",
      " 1013 1009 1006 1006  991  989  976  975  975  947  929  906  905  893\n",
      "  886  785  590]\n",
      "28 :  [1181 1172 1149 1127 1124 1102 1095 1093 1079 1048 1042 1023 1018 1013\n",
      " 1013 1009 1006 1006  991  989  976  975  975  947  929  906  905  893\n",
      "  886  785  590]\n",
      "1 :  [1181 1172 1149 1127 1124 1102 1095 1093 1079 1048 1042 1023 1018 1013\n",
      " 1013 1009 1006 1006  991  989  976  975  975  947  929  906  905  893\n",
      "  886  785  590]\n",
      "7 :  [1181 1172 1149 1127 1124 1102 1095 1093 1079 1048 1042 1023 1018 1013\n",
      " 1013 1009 1006 1006  991  989  976  975  975  947  929  906  905  893\n",
      "  886  785  590]\n",
      "31 :  [1181 1172 1149 1127 1124 1102 1095 1093 1079 1048 1042 1023 1018 1013\n",
      " 1013 1009 1006 1006  991  989  976  975  975  947  929  906  905  893\n",
      "  886  785  590]\n",
      "col 1: Day of Month\n",
      "cold 2: Number of Rides\n"
     ]
    }
   ],
   "source": [
    "print(\"Number of Rides for Casual Users\")\n",
    "for i,val in enumerate(casual_counts.index):\n",
    "    print(val,  \": \" , casual_counts.values)\n",
    "    \n",
    "print(\"col 1: Day of Month\")\n",
    "print(\"cold 2: Number of Rides\")"
   ]
  },
  {
   "cell_type": "markdown",
   "id": "3c89d665",
   "metadata": {},
   "source": [
    "This cell creates a bar chart showing the number of rides for casual users per day. The plot is useful to visualize the distribution of rides throughout the month for casual users."
   ]
  },
  {
   "cell_type": "code",
   "execution_count": 19,
   "id": "d1037297",
   "metadata": {
    "scrolled": true
   },
   "outputs": [
    {
     "data": {
      "image/png": "[encoded data removed]",
      "text/plain": [
       "<Figure size 432x288 with 1 Axes>"
      ]
     },
     "metadata": {},
     "output_type": "display_data"
    }
   ],
   "source": [
    "plt.bar(casual_counts.index, casual_counts.values)\n",
    "plt.xlabel(\"Day of Month\")\n",
    "plt.ylabel(\"Number of Rides\")\n",
    "plt.title(\"Number of Rides for Casual Users\")\n",
    "plt.show()"
   ]
  },
  {
   "cell_type": "markdown",
   "id": "0c5a5822",
   "metadata": {},
   "source": [
    "no significant difference between the two group means"
   ]
  },
  {
   "cell_type": "code",
   "execution_count": 15,
   "id": "bb06918c",
   "metadata": {
    "scrolled": true
   },
   "outputs": [
    {
     "name": "stdout",
     "output_type": "stream",
     "text": [
      "T-test p-value for members vs casuals: Ttest_indResult(statistic=22.74512917377711, pvalue=3.4327461217737515e-31)\n"
     ]
    }
   ],
   "source": [
    "p_value_members_casuals = stats.ttest_ind(member_counts, casual_counts)\n",
    "print(\"T-test p-value for members vs casuals:\", p_value_members_casuals)"
   ]
  }
 ],
 "metadata": {
  "kernelspec": {
   "display_name": "Python 3 (ipykernel)",
   "language": "python",
   "name": "python3"
  },
  "language_info": {
   "codemirror_mode": {
    "name": "ipython",
    "version": 3
   },
   "file_extension": ".py",
   "mimetype": "text/x-python",
   "name": "python",
   "nbconvert_exporter": "python",
   "pygments_lexer": "ipython3",
   "version": "3.8.13"
  }
 },
 "nbformat": 4,
 "nbformat_minor": 5
}
